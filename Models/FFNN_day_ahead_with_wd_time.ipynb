{
  "nbformat": 4,
  "nbformat_minor": 0,
  "metadata": {
    "colab": {
      "name": "FFNN_day_ahead_with_wd_time.ipynb",
      "provenance": []
    },
    "kernelspec": {
      "name": "python3",
      "display_name": "Python 3"
    },
    "language_info": {
      "name": "python"
    }
  },
  "cells": [
    {
      "cell_type": "code",
      "metadata": {
        "id": "SBPefoTYViKd"
      },
      "source": [
        "import numpy as np\n",
        "import pandas as pd\n",
        "import matplotlib.pyplot as plt\n",
        "import seaborn as sns\n",
        "\n",
        "# Import pytorch utilities\n",
        "import torch\n",
        "import torch.nn as nn\n",
        "import torch.nn.functional as F\n",
        "import torch.optim as optim\n",
        "from torch.autograd import Variable\n",
        "\n",
        "from tensorflow.keras.preprocessing.sequence import TimeseriesGenerator"
      ],
      "execution_count": 3,
      "outputs": []
    },
    {
      "cell_type": "code",
      "metadata": {
        "id": "KuNVBfx_Vrbo"
      },
      "source": [
        "x_train = pd.read_csv('windforecasts_wf1.csv', index_col='date')\n",
        "y_train = pd.read_csv('train.csv')\n",
        "# just consider the wind farm 1"
      ],
      "execution_count": 4,
      "outputs": []
    },
    {
      "cell_type": "code",
      "metadata": {
        "id": "FnEi6aYWdAH9"
      },
      "source": [
        "# Select power data set\n",
        "y_train['date'] = pd.to_datetime(y_train.date, format= '%Y%m%d%H')\n",
        "y_train.index = y_train['date'] \n",
        "y_train.drop('date', inplace = True, axis = 1)\n",
        "complete_ts = y_train[:'2011-01-01 00'] # all the data without any gaps\n",
        "y_train_update=complete_ts[1:]"
      ],
      "execution_count": 5,
      "outputs": []
    },
    {
      "cell_type": "code",
      "metadata": {
        "id": "-XnJlu26dUp5"
      },
      "source": [
        "# Select forecast data set\n",
        "x_train_update = x_train[x_train.hors<=12]\n",
        "x_train_update.index = pd.to_datetime(x_train_update.index, format= '%Y%m%d%H')\n",
        "x_train_update = x_train_update[:'2010-12-31 12']\n",
        "x_train_update['time'] = x_train_update.index + pd.to_timedelta(x_train_update.hors,\"H\")\n",
        "\n",
        "# Normalize\n",
        "maxi = x_train_update.ws.max()\n",
        "mini = x_train_update.ws.min()\n",
        "x_train_update.ws = (x_train_update.ws - mini)/(maxi-mini)"
      ],
      "execution_count": 6,
      "outputs": []
    },
    {
      "cell_type": "code",
      "metadata": {
        "id": "BM8Lb4OLdn28"
      },
      "source": [
        "# One hot encode the wind directions\n",
        "wd_onehot = []\n",
        "\n",
        "for i in range(len(x_train_update)):\n",
        "  onehot = 12*[None]\n",
        "  sector = np.floor(x_train_update.wd[i]/30)\n",
        "  for s in range(12):\n",
        "    if sector == s:\n",
        "      onehot[s] = 1\n",
        "    else:\n",
        "      onehot[s] = 0\n",
        "  wd_onehot.append(onehot)"
      ],
      "execution_count": 7,
      "outputs": []
    },
    {
      "cell_type": "code",
      "metadata": {
        "id": "e2DdhkcNhGUX"
      },
      "source": [
        "x_train_sectors = pd.DataFrame(np.concatenate((np.reshape(x_train_update.ws.values,(len(x_train_update),1)),\n",
        "                                               wd_onehot,\n",
        "                                               np.cos(np.reshape(x_train_update.time.dt.hour.values,(len(x_train_update),1))*2*np.pi/24),\n",
        "                                               np.sin(np.reshape(x_train_update.time.dt.hour.values,(len(x_train_update),1))*2*np.pi/24),\n",
        "                                               np.cos(np.reshape(x_train_update.time.dt.dayofyear.values,(len(x_train_update),1))*2*np.pi/365),\n",
        "                                               np.sin(np.reshape(x_train_update.time.dt.dayofyear.values,(len(x_train_update),1))*2*np.pi/365)),\n",
        "                                              axis = 1),\n",
        "             columns = 'ws s1 s2 s3 s4 s5 s6 s7 s8 s9 s10 s11 s12 time_day_cos time_day_sin time_year_cos time_year_sin'.split())\n",
        "x_train_sectors.drop('s12',axis=1, inplace=True)"
      ],
      "execution_count": 8,
      "outputs": []
    },
    {
      "cell_type": "code",
      "metadata": {
        "colab": {
          "base_uri": "https://localhost:8080/"
        },
        "id": "GsnJqFPBP_pG",
        "outputId": "3b911272-3379-4c0c-859e-d24fb808e344"
      },
      "source": [
        "print(np.shape(x_train_sectors))"
      ],
      "execution_count": 9,
      "outputs": [
        {
          "output_type": "stream",
          "name": "stdout",
          "text": [
            "(13176, 16)\n"
          ]
        }
      ]
    },
    {
      "cell_type": "code",
      "metadata": {
        "id": "zL4cPhNsfwkp"
      },
      "source": [
        "# FFNN Day Ahead\n",
        "# Define the FFNN network\n",
        "class Net(nn.Module):\n",
        "\n",
        "    def __init__(self):\n",
        "        super(Net, self).__init__()\n",
        "        # input \n",
        "        self.inputLay = nn.Linear(in_features = 16,\n",
        "                               out_features = 128,\n",
        "                               bias = True)\n",
        "        self.hidden_layer = nn.Linear(in_features = 128,\n",
        "                                      out_features = 128,\n",
        "                                      bias = True)\n",
        "        self.hidden_layer2 = nn.Linear(in_features = 128,\n",
        "                              out_features = 128,\n",
        "                              bias = True)\n",
        "        self.output = nn.Linear(in_features = 128,\n",
        "                               out_features = 1,\n",
        "                               bias = True)\n",
        "\n",
        "    def forward(self, x):\n",
        "      x = self.inputLay(x)\n",
        "      x = F.elu(x) # F = nn.Functional\n",
        "      # x = self.hidden_layer(x)\n",
        "      # x = F.elu(x)\n",
        "      x = self.hidden_layer2(x)\n",
        "      x = F.elu(x)\n",
        "      out = self.output(x)\n",
        "\n",
        "      return out\n",
        "\n"
      ],
      "execution_count": 10,
      "outputs": []
    },
    {
      "cell_type": "code",
      "metadata": {
        "colab": {
          "base_uri": "https://localhost:8080/"
        },
        "id": "Wyvcb1FXfxiP",
        "outputId": "e55ac32f-0255-4f4d-8289-63e8b176c389"
      },
      "source": [
        "FFNN_mapping = Net()\n",
        "print(FFNN_mapping)"
      ],
      "execution_count": 11,
      "outputs": [
        {
          "output_type": "stream",
          "name": "stdout",
          "text": [
            "Net(\n",
            "  (inputLay): Linear(in_features=16, out_features=128, bias=True)\n",
            "  (hidden_layer): Linear(in_features=128, out_features=128, bias=True)\n",
            "  (hidden_layer2): Linear(in_features=128, out_features=128, bias=True)\n",
            "  (output): Linear(in_features=128, out_features=1, bias=True)\n",
            ")\n"
          ]
        }
      ]
    },
    {
      "cell_type": "code",
      "metadata": {
        "colab": {
          "base_uri": "https://localhost:8080/"
        },
        "id": "gvGneCXJjjwz",
        "outputId": "5137d263-4bce-40d0-b012-df27b2afef0b"
      },
      "source": [
        "# Test the FFNN\n",
        "FFNN_mapping(   torch.Tensor(np.array([x_train_sectors.iloc[0:1]]))    )"
      ],
      "execution_count": 12,
      "outputs": [
        {
          "output_type": "execute_result",
          "data": {
            "text/plain": [
              "tensor([[[0.1317]]], grad_fn=<AddBackward0>)"
            ]
          },
          "metadata": {},
          "execution_count": 12
        }
      ]
    },
    {
      "cell_type": "code",
      "metadata": {
        "id": "UibVgi1Gj2Cf"
      },
      "source": [
        "# Set the parameters for training\n",
        "\n",
        "FFNN_mapping = Net()\n",
        "# Convert to cuda if GPU available\n",
        "if torch.cuda.is_available():\n",
        "    print('##converting network to cuda-enabled')\n",
        "    FFNN_mapping.cuda()\n",
        "\n",
        "# Define loss function and train parameters\n",
        "criterion = nn.MSELoss()    \n",
        "\n",
        "# Adam gradient descent with learning rate decay\n",
        "optimizer = optim.Adam(FFNN_mapping.parameters(), lr=5e-4)\n",
        "\n",
        "# Length of the training and batches\n",
        "epochs = 30\n",
        "batch_size = 8\n",
        "num_batch = len(x_train_sectors)//batch_size\n",
        "\n",
        "# Function to get the batch\n",
        "get_batch = lambda i, size: range(i * size, (i + 1) * size)\n",
        "\n",
        "# Track loss\n",
        "training_RMSE = []\n"
      ],
      "execution_count": 13,
      "outputs": []
    },
    {
      "cell_type": "code",
      "metadata": {
        "colab": {
          "base_uri": "https://localhost:8080/"
        },
        "id": "uL2SdVE7j2u4",
        "outputId": "4d68829a-a630-4259-b00b-be1a216f1ff2"
      },
      "source": [
        "# Training\n",
        "\n",
        "# Loop over epochs\n",
        "for i in range(epochs):\n",
        "\n",
        "    epoch_training_loss = 0\n",
        "\n",
        "    FFNN_mapping.train()\n",
        "\n",
        "    # For each sequence in training set\n",
        "    for b in range(num_batch):\n",
        "\n",
        "      batch_index = get_batch(b,batch_size)\n",
        "                 \n",
        "      # Get inputs and targets\n",
        "      inputs = torch.Tensor([np.array(x_train_sectors)[batch_index]]) # wind speed\n",
        "      targets = torch.Tensor(np.array(y_train_update.wp1)[batch_index])  # power\n",
        "\n",
        "      # Convert to cuda to run on GPU\n",
        "      if torch.cuda.is_available():\n",
        "            inputs, targets = Variable(inputs.cuda()), Variable(targets.cuda())\n",
        "\n",
        "      # Forward pass\n",
        "      outputs = FFNN_mapping(inputs)\n",
        "          \n",
        "      # Compute loss\n",
        "      loss = criterion(outputs, targets)\n",
        "          \n",
        "      # Backward pass\n",
        "      optimizer.zero_grad()\n",
        "      loss.backward()\n",
        "      optimizer.step()\n",
        "          \n",
        "      # Update loss\n",
        "      if torch.cuda.is_available():\n",
        "        epoch_training_loss += loss.cpu().detach().numpy()\n",
        "      else:\n",
        "        epoch_training_loss += loss.detach().numpy()\n",
        "    \n",
        "    # Save loss for plot\n",
        "    epoch_RMSE = np.sqrt(epoch_training_loss/(num_batch))\n",
        "    training_RMSE.append(epoch_RMSE)\n",
        "\n",
        "    # Compute confidence interval\n",
        "    # CI = [norm.ppf(0.025)*training_RMSE[-1],norm.ppf(0.975)*training_RMSE[-1]]\n",
        "\n",
        "    # Print loss every 10 epochs\n",
        "    if i % 1 == 0:\n",
        "        print('Epoch %d, training RMSE: %.3f' % (i+1,training_RMSE[-1]))"
      ],
      "execution_count": 14,
      "outputs": [
        {
          "output_type": "stream",
          "name": "stderr",
          "text": [
            "/usr/local/lib/python3.7/dist-packages/ipykernel_launcher.py:16: UserWarning: Creating a tensor from a list of numpy.ndarrays is extremely slow. Please consider converting the list to a single numpy.ndarray with numpy.array() before converting to a tensor. (Triggered internally at  ../torch/csrc/utils/tensor_new.cpp:201.)\n",
            "  app.launch_new_instance()\n",
            "/usr/local/lib/python3.7/dist-packages/torch/nn/modules/loss.py:520: UserWarning: Using a target size (torch.Size([8])) that is different to the input size (torch.Size([1, 8, 1])). This will likely lead to incorrect results due to broadcasting. Please ensure they have the same size.\n",
            "  return F.mse_loss(input, target, reduction=self.reduction)\n"
          ]
        },
        {
          "output_type": "stream",
          "name": "stdout",
          "text": [
            "Epoch 1, training RMSE: 0.202\n",
            "Epoch 2, training RMSE: 0.181\n",
            "Epoch 3, training RMSE: 0.178\n",
            "Epoch 4, training RMSE: 0.176\n",
            "Epoch 5, training RMSE: 0.175\n",
            "Epoch 6, training RMSE: 0.173\n",
            "Epoch 7, training RMSE: 0.172\n",
            "Epoch 8, training RMSE: 0.171\n",
            "Epoch 9, training RMSE: 0.171\n",
            "Epoch 10, training RMSE: 0.170\n",
            "Epoch 11, training RMSE: 0.170\n",
            "Epoch 12, training RMSE: 0.170\n",
            "Epoch 13, training RMSE: 0.170\n",
            "Epoch 14, training RMSE: 0.169\n",
            "Epoch 15, training RMSE: 0.169\n",
            "Epoch 16, training RMSE: 0.169\n",
            "Epoch 17, training RMSE: 0.169\n",
            "Epoch 18, training RMSE: 0.169\n",
            "Epoch 19, training RMSE: 0.169\n",
            "Epoch 20, training RMSE: 0.169\n",
            "Epoch 21, training RMSE: 0.169\n",
            "Epoch 22, training RMSE: 0.168\n",
            "Epoch 23, training RMSE: 0.168\n",
            "Epoch 24, training RMSE: 0.168\n",
            "Epoch 25, training RMSE: 0.168\n",
            "Epoch 26, training RMSE: 0.168\n",
            "Epoch 27, training RMSE: 0.168\n",
            "Epoch 28, training RMSE: 0.168\n",
            "Epoch 29, training RMSE: 0.168\n",
            "Epoch 30, training RMSE: 0.168\n"
          ]
        }
      ]
    },
    {
      "cell_type": "code",
      "metadata": {
        "colab": {
          "base_uri": "https://localhost:8080/",
          "height": 279
        },
        "id": "flRe9y77mUBo",
        "outputId": "6e3fcfe5-2dbf-4b31-ffdf-a76c8d66542f"
      },
      "source": [
        "# Plot training loss\n",
        "epoch = np.arange(len(training_RMSE))\n",
        "plt.figure()\n",
        "plt.plot(epoch, training_RMSE, 'r')\n",
        "plt.xlabel('Epoch'), plt.ylabel('Training RMSE')\n",
        "plt.show()"
      ],
      "execution_count": 16,
      "outputs": [
        {
          "output_type": "display_data",
          "data": {
            "image/png": "[encoded data removed]",
            "text/plain": [
              "<Figure size 432x288 with 1 Axes>"
            ]
          },
          "metadata": {
            "needs_background": "light"
          }
        }
      ]
    },
    {
      "cell_type": "code",
      "metadata": {
        "id": "mR903blW-aP9"
      },
      "source": [
        ""
      ],
      "execution_count": null,
      "outputs": []
    }
  ]
}