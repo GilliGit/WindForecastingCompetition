{
  "nbformat": 4,
  "nbformat_minor": 0,
  "metadata": {
    "colab": {
      "name": "ARIMA_intra_day.ipynb",
      "provenance": []
    },
    "kernelspec": {
      "name": "python3",
      "display_name": "Python 3"
    },
    "language_info": {
      "name": "python"
    }
  },
  "cells": [
    {
      "cell_type": "markdown",
      "metadata": {
        "id": "qlqp8zoMBcDp"
      },
      "source": [
        "**Autoregressive model as a benchmark**"
      ]
    },
    {
      "cell_type": "code",
      "metadata": {
        "colab": {
          "base_uri": "https://localhost:8080/"
        },
        "id": "IqVZ6gRnBX6B",
        "outputId": "9f9303e9-b47a-4a50-c3f3-1dd531b22d77"
      },
      "source": [
        "from google.colab import drive\n",
        "drive.mount('/content/drive')"
      ],
      "execution_count": 4,
      "outputs": [
        {
          "output_type": "stream",
          "name": "stdout",
          "text": [
            "Mounted at /content/drive\n"
          ]
        }
      ]
    },
    {
      "cell_type": "code",
      "metadata": {
        "id": "7fJi80SrBFgL"
      },
      "source": [
        "import numpy as np\n",
        "import pandas as pd\n",
        "import matplotlib.pyplot as plt\n",
        "import seaborn as sns\n",
        "import statistics as stat\n",
        "from scipy.stats import norm\n",
        "\n",
        "# Import pytorch utilities\n",
        "import torch\n",
        "import torch.nn as nn\n",
        "import torch.nn.functional as F\n",
        "import torch.optim as optim\n",
        "from torch.autograd import Variable\n",
        "\n",
        "from tensorflow.keras.preprocessing.sequence import TimeseriesGenerator"
      ],
      "execution_count": 53,
      "outputs": []
    },
    {
      "cell_type": "code",
      "metadata": {
        "id": "2Qp3CaezBQTA"
      },
      "source": [
        "x_train = pd.read_csv('windforecasts_wf1.csv', index_col='date')\n",
        "y_train = pd.read_csv('train.csv')\n",
        "# just consider the wind farm 1"
      ],
      "execution_count": 7,
      "outputs": []
    },
    {
      "cell_type": "code",
      "metadata": {
        "id": "DuH4nBnNCwpO"
      },
      "source": [
        "y_train['date'] = pd.to_datetime(y_train.date, format= '%Y%m%d%H')\n",
        "y_train.index = y_train['date'] \n",
        "y_train.drop('date', inplace = True, axis = 1)"
      ],
      "execution_count": 8,
      "outputs": []
    },
    {
      "cell_type": "code",
      "metadata": {
        "id": "wDFnQp-WD0we"
      },
      "source": [
        "# Use only the power time series when continuous\n",
        "\n",
        "complete_ts = y_train[:'2011-01-01 00'] # all the data without any gaps\n",
        "input_generator = np.transpose(np.array([complete_ts.wp1]))\n",
        "length = 24 # length of the time series, PARAMETER TO TUNE"
      ],
      "execution_count": 9,
      "outputs": []
    },
    {
      "cell_type": "code",
      "metadata": {
        "id": "RIU5h3KcD8fQ"
      },
      "source": [
        "# Define the validation set as one sequence\n",
        "validation_power = input_generator[int(len(input_generator)*0.8)+1 : int(len(input_generator))-1]"
      ],
      "execution_count": 10,
      "outputs": []
    },
    {
      "cell_type": "code",
      "metadata": {
        "id": "EOJZC6Z6D9Vi"
      },
      "source": [
        "# Define slices of 24h inputs and corresponding targets 1, 2 and 3 hours ahead\n",
        "p_inputs = []\n",
        "p_targets1h = []\n",
        "p_targets2h = []\n",
        "p_targets3h = []\n",
        "for i in range(len(validation_power)-5):\n",
        "  p_inputs.append(validation_power[i:i+3])\n",
        "  p_targets1h.append(validation_power[i+3])\n",
        "  p_targets2h.append(validation_power[i+4])\n",
        "  p_targets3h.append(validation_power[i+5])"
      ],
      "execution_count": 13,
      "outputs": []
    },
    {
      "cell_type": "code",
      "metadata": {
        "id": "zIEnvkr6E1OT"
      },
      "source": [
        "# Definition of ARIMA model (was fitted in Matlab using the training set)\n",
        "# P_t = a + b*P_{t-1} + c*P_{t-2} + d*P{t-3}\n",
        "a = 0.0139\n",
        "b = 1.189\n",
        "c = -0.282\n",
        "d = 0.0361"
      ],
      "execution_count": 14,
      "outputs": []
    },
    {
      "cell_type": "code",
      "metadata": {
        "colab": {
          "base_uri": "https://localhost:8080/"
        },
        "id": "vhrXO-LWFuNd",
        "outputId": "24516549-e3f0-47f4-a96e-a3349eab837e"
      },
      "source": [
        "# Forecasting 1, 2 and 3 hours ahead\n",
        "\n",
        "# Store predictions and errors\n",
        "pred_1h = []\n",
        "err_1h = []\n",
        "pred_2h = []\n",
        "err_2h = []\n",
        "pred_3h = []\n",
        "err_3h = []\n",
        "\n",
        "# Loop over the sequences of valid data\n",
        "for seq in range(len(p_inputs)):\n",
        "\n",
        "    # Define past value for the 1h forecast\n",
        "    past = p_inputs[seq]\n",
        "    \n",
        "    # Take ARIMA output for the past sequence\n",
        "    pred_1h.append(a + b*past[2] + c*past[1] + d*past[0])\n",
        "    err_1h.append(pred_1h[-1][0]-p_targets1h[seq][0])\n",
        "\n",
        "    # Repeat with prediction 2 hours ahead actualizing the past values\n",
        "    past = np.append(past,[pred_1h[-1]],0)\n",
        "    pred_2h.append(a + b*past[3] + c*past[2] + d*past[1])\n",
        "    err_2h.append(pred_2h[-1][0]-p_targets2h[seq][0])\n",
        "\n",
        "    # Repeat with prediction 3 hours ahead\n",
        "    past = np.append(past,[pred_2h[-1]],0)\n",
        "    pred_3h.append(a + b*past[4] + c*past[3] + d*past[2])\n",
        "    err_3h.append(pred_3h[-1][0]-p_targets3h[seq][0])\n",
        "\n",
        "    if seq % 100 == 0:\n",
        "      print(f'step {seq+1}, RMSE 1h: {np.sqrt(stat.mean(err_1h[n]**2 for n in range(len(err_1h))))}, RMSE 2h: {np.sqrt(stat.mean(err_2h[n]**2 for n in range(len(err_2h))))}, RMSE 3h: {np.sqrt(stat.mean(err_3h[n]**2 for n in range(len(err_3h))))}')"
      ],
      "execution_count": 51,
      "outputs": [
        {
          "output_type": "stream",
          "name": "stdout",
          "text": [
            "step 1, RMSE 1h: 0.0041101000000000045, RMSE 2h: 0.0348390911, RMSE 3h: 0.0833917275179\n",
            "step 101, RMSE 1h: 0.07035843134737843, RMSE 2h: 0.11797614363222156, RMSE 3h: 0.14906344886143555\n",
            "step 201, RMSE 1h: 0.06812978019505032, RMSE 2h: 0.11516970177161238, RMSE 3h: 0.14504199198656959\n",
            "step 301, RMSE 1h: 0.07677044837502314, RMSE 2h: 0.12156251335590067, RMSE 3h: 0.150656968010809\n",
            "step 401, RMSE 1h: 0.07224706880106027, RMSE 2h: 0.1147480021350331, RMSE 3h: 0.14248685221821158\n",
            "step 501, RMSE 1h: 0.06904041416862959, RMSE 2h: 0.10970037994924346, RMSE 3h: 0.13569924537775785\n",
            "step 601, RMSE 1h: 0.07322334788941078, RMSE 2h: 0.11336856829609673, RMSE 3h: 0.1380206603216205\n",
            "step 701, RMSE 1h: 0.07049565629067599, RMSE 2h: 0.11010058203977255, RMSE 3h: 0.13474782446194725\n",
            "step 801, RMSE 1h: 0.070830850496784, RMSE 2h: 0.11254189046318452, RMSE 3h: 0.1384421700778182\n",
            "step 901, RMSE 1h: 0.07235893127061728, RMSE 2h: 0.11597174494322379, RMSE 3h: 0.1433483596375577\n",
            "step 1001, RMSE 1h: 0.07389439770134348, RMSE 2h: 0.11744761176256781, RMSE 3h: 0.14526581857533635\n",
            "step 1101, RMSE 1h: 0.07373995077104599, RMSE 2h: 0.11647142700678975, RMSE 3h: 0.14455231801849255\n",
            "step 1201, RMSE 1h: 0.07318126923787406, RMSE 2h: 0.1148047550592868, RMSE 3h: 0.14216592412531157\n",
            "step 1301, RMSE 1h: 0.07133665614966628, RMSE 2h: 0.11185419017197357, RMSE 3h: 0.13844185259050884\n",
            "step 1401, RMSE 1h: 0.07033409213118401, RMSE 2h: 0.11023191184172598, RMSE 3h: 0.13606204120992962\n",
            "step 1501, RMSE 1h: 0.07010400050662087, RMSE 2h: 0.1097306393672561, RMSE 3h: 0.13570904645551146\n",
            "step 1601, RMSE 1h: 0.07185992023381414, RMSE 2h: 0.11290393637830806, RMSE 3h: 0.1400944854045085\n",
            "step 1701, RMSE 1h: 0.0732053455879095, RMSE 2h: 0.11527365387816893, RMSE 3h: 0.14356950933643017\n",
            "step 1801, RMSE 1h: 0.07436539618642705, RMSE 2h: 0.11716328934584645, RMSE 3h: 0.1459073587635239\n",
            "step 1901, RMSE 1h: 0.0743157104493603, RMSE 2h: 0.11726704660587692, RMSE 3h: 0.1461713787680031\n",
            "step 2001, RMSE 1h: 0.07371166736814382, RMSE 2h: 0.11619282128193885, RMSE 3h: 0.14472579970526084\n",
            "step 2101, RMSE 1h: 0.07303379583161554, RMSE 2h: 0.11500647853664883, RMSE 3h: 0.1430279189908329\n",
            "step 2201, RMSE 1h: 0.07294075876163594, RMSE 2h: 0.11484062396174703, RMSE 3h: 0.1428896774255732\n",
            "step 2301, RMSE 1h: 0.072888623412833, RMSE 2h: 0.11496861048889867, RMSE 3h: 0.1430747205969894\n",
            "step 2401, RMSE 1h: 0.07143391132197072, RMSE 2h: 0.1127473402437089, RMSE 3h: 0.1404049450180228\n",
            "step 2501, RMSE 1h: 0.0702289206379158, RMSE 2h: 0.11091041927480842, RMSE 3h: 0.1381868159212409\n",
            "step 2601, RMSE 1h: 0.06945246250290198, RMSE 2h: 0.10975218920968781, RMSE 3h: 0.13667974697860558\n"
          ]
        }
      ]
    },
    {
      "cell_type": "code",
      "metadata": {
        "colab": {
          "base_uri": "https://localhost:8080/"
        },
        "id": "rSFYYJ-QHjex",
        "outputId": "c5ca4cfb-3656-4feb-cd79-9fb89777a50c"
      },
      "source": [
        "# Estimation of confidence intervals:\n",
        "RMSE_1h = np.sqrt(stat.mean(err_1h[n]**2 for n in range(len(err_1h))))\n",
        "RMSE_2h = np.sqrt(stat.mean(err_2h[n]**2 for n in range(len(err_2h))))\n",
        "RMSE_3h = np.sqrt(stat.mean(err_3h[n]**2 for n in range(len(err_3h))))\n",
        "CI_1h = [norm.ppf(0.025)*RMSE_1h,norm.ppf(0.975)*RMSE_1h]\n",
        "CI_2h = [norm.ppf(0.025)*RMSE_2h,norm.ppf(0.975)*RMSE_2h]\n",
        "CI_3h = [norm.ppf(0.025)*RMSE_3h,norm.ppf(0.975)*RMSE_3h]\n",
        "print(f'Confidence interval 1h: {CI_1h}')\n",
        "print(f'Confidence interval 2h: {CI_2h}')\n",
        "print(f'Confidence interval 3h: {CI_3h}')"
      ],
      "execution_count": 54,
      "outputs": [
        {
          "output_type": "stream",
          "name": "stdout",
          "text": [
            "Confidence interval 1h: [-0.13651172320491342, 0.1365117232049134]\n",
            "Confidence interval 2h: [-0.2157469321465518, 0.21574693214655175]\n",
            "Confidence interval 3h: [-0.26869945371736936, 0.2686994537173693]\n"
          ]
        }
      ]
    },
    {
      "cell_type": "code",
      "metadata": {
        "id": "PO_6VFMjOD6z"
      },
      "source": [
        ""
      ],
      "execution_count": null,
      "outputs": []
    }
  ]
}