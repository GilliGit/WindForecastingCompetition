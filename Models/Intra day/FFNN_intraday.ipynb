{
  "nbformat": 4,
  "nbformat_minor": 0,
  "metadata": {
    "colab": {
      "name": "FFNN_day_ahead.ipynb",
      "provenance": [],
      "collapsed_sections": []
    },
    "kernelspec": {
      "name": "python3",
      "display_name": "Python 3"
    },
    "language_info": {
      "name": "python"
    }
  },
  "cells": [
    {
      "cell_type": "code",
      "metadata": {
        "id": "rkktUSsXrLtq"
      },
      "source": [
        "import numpy as np\n",
        "import pandas as pd\n",
        "import matplotlib.pyplot as plt\n",
        "import seaborn as sns\n",
        "from datetime import timedelta\n",
        "\n",
        "# Import pytorch utilities\n",
        "import torch\n",
        "import torch.nn as nn\n",
        "import torch.nn.functional as F\n",
        "import torch.optim as optim\n",
        "from torch.autograd import Variable\n",
        "\n",
        "from tensorflow.keras.preprocessing.sequence import TimeseriesGenerator"
      ],
      "execution_count": 96,
      "outputs": []
    },
    {
      "cell_type": "code",
      "metadata": {
        "id": "jRaCDvFYrttE"
      },
      "source": [
        "x_train = pd.read_csv('windforecasts_wf1.csv', index_col='date')\n",
        "y_train = pd.read_csv('train.csv')\n",
        "# just consider the wind farm 1"
      ],
      "execution_count": 78,
      "outputs": []
    },
    {
      "cell_type": "code",
      "metadata": {
        "id": "J-zh_0czr3fM"
      },
      "source": [
        "# Select power data set\n",
        "y_train['date'] = pd.to_datetime(y_train.date, format= '%Y%m%d%H')\n",
        "y_train.index = y_train['date'] \n",
        "y_train.drop('date', inplace = True, axis = 1)\n",
        "complete_ts = y_train[:'2011-01-01 00'] # all the data without any gaps\n",
        "y_train_update=complete_ts[1:]"
      ],
      "execution_count": 79,
      "outputs": []
    },
    {
      "cell_type": "code",
      "metadata": {
        "colab": {
          "base_uri": "https://localhost:8080/"
        },
        "id": "jaSVyYR8WWSu",
        "outputId": "35284c34-91bd-42dc-a093-230a3e2dae45"
      },
      "source": [
        "x_train_update.index"
      ],
      "execution_count": 92,
      "outputs": [
        {
          "output_type": "execute_result",
          "data": {
            "text/plain": [
              "DatetimeIndex(['2009-07-01 00:00:00', '2009-07-01 00:00:00',\n",
              "               '2009-07-01 00:00:00', '2009-07-01 00:00:00',\n",
              "               '2009-07-01 00:00:00', '2009-07-01 00:00:00',\n",
              "               '2009-07-01 00:00:00', '2009-07-01 00:00:00',\n",
              "               '2009-07-01 00:00:00', '2009-07-01 00:00:00',\n",
              "               ...\n",
              "               '2010-12-31 12:00:00', '2010-12-31 12:00:00',\n",
              "               '2010-12-31 12:00:00', '2010-12-31 12:00:00',\n",
              "               '2010-12-31 12:00:00', '2010-12-31 12:00:00',\n",
              "               '2010-12-31 12:00:00', '2010-12-31 12:00:00',\n",
              "               '2010-12-31 12:00:00', '2010-12-31 12:00:00'],\n",
              "              dtype='datetime64[ns]', name='date', length=13176, freq=None)"
            ]
          },
          "metadata": {},
          "execution_count": 92
        }
      ]
    },
    {
      "cell_type": "code",
      "metadata": {
        "id": "1Ij0WLBYr1x8"
      },
      "source": [
        "# Select forecast data set\n",
        "x_train_update = x_train[x_train.hors<=12]\n",
        "x_train_update.index = pd.to_datetime(x_train_update.index, format= '%Y%m%d%H')\n",
        "x_train_update = x_train_update[:'2010-12-31 12']\n",
        "x_train_update['time'] = x_train_update.index + pd.to_timedelta(x_train_update.hors,\"H\")"
      ],
      "execution_count": 108,
      "outputs": []
    },
    {
      "cell_type": "code",
      "metadata": {
        "colab": {
          "base_uri": "https://localhost:8080/",
          "height": 455
        },
        "id": "-ggbjDgIYXgf",
        "outputId": "3b798024-111d-4fc9-b578-dea182a7777f"
      },
      "source": [
        ""
      ],
      "execution_count": 107,
      "outputs": [
        {
          "output_type": "execute_result",
          "data": {
            "text/html": [
              "<div>\n",
              "<style scoped>\n",
              "    .dataframe tbody tr th:only-of-type {\n",
              "        vertical-align: middle;\n",
              "    }\n",
              "\n",
              "    .dataframe tbody tr th {\n",
              "        vertical-align: top;\n",
              "    }\n",
              "\n",
              "    .dataframe thead th {\n",
              "        text-align: right;\n",
              "    }\n",
              "</style>\n",
              "<table border=\"1\" class=\"dataframe\">\n",
              "  <thead>\n",
              "    <tr style=\"text-align: right;\">\n",
              "      <th></th>\n",
              "      <th>wp1</th>\n",
              "      <th>wp2</th>\n",
              "      <th>wp3</th>\n",
              "      <th>wp4</th>\n",
              "      <th>wp5</th>\n",
              "      <th>wp6</th>\n",
              "      <th>wp7</th>\n",
              "    </tr>\n",
              "    <tr>\n",
              "      <th>date</th>\n",
              "      <th></th>\n",
              "      <th></th>\n",
              "      <th></th>\n",
              "      <th></th>\n",
              "      <th></th>\n",
              "      <th></th>\n",
              "      <th></th>\n",
              "    </tr>\n",
              "  </thead>\n",
              "  <tbody>\n",
              "    <tr>\n",
              "      <th>2009-07-01 01:00:00</th>\n",
              "      <td>0.085</td>\n",
              "      <td>0.249</td>\n",
              "      <td>0.257</td>\n",
              "      <td>0.105</td>\n",
              "      <td>0.066</td>\n",
              "      <td>0.066</td>\n",
              "      <td>0.051</td>\n",
              "    </tr>\n",
              "    <tr>\n",
              "      <th>2009-07-01 02:00:00</th>\n",
              "      <td>0.020</td>\n",
              "      <td>0.175</td>\n",
              "      <td>0.178</td>\n",
              "      <td>0.033</td>\n",
              "      <td>0.015</td>\n",
              "      <td>0.026</td>\n",
              "      <td>0.000</td>\n",
              "    </tr>\n",
              "    <tr>\n",
              "      <th>2009-07-01 03:00:00</th>\n",
              "      <td>0.060</td>\n",
              "      <td>0.085</td>\n",
              "      <td>0.109</td>\n",
              "      <td>0.022</td>\n",
              "      <td>0.010</td>\n",
              "      <td>0.013</td>\n",
              "      <td>0.000</td>\n",
              "    </tr>\n",
              "    <tr>\n",
              "      <th>2009-07-01 04:00:00</th>\n",
              "      <td>0.045</td>\n",
              "      <td>0.032</td>\n",
              "      <td>0.079</td>\n",
              "      <td>0.039</td>\n",
              "      <td>0.010</td>\n",
              "      <td>0.000</td>\n",
              "      <td>0.000</td>\n",
              "    </tr>\n",
              "    <tr>\n",
              "      <th>2009-07-01 05:00:00</th>\n",
              "      <td>0.035</td>\n",
              "      <td>0.011</td>\n",
              "      <td>0.099</td>\n",
              "      <td>0.066</td>\n",
              "      <td>0.015</td>\n",
              "      <td>0.013</td>\n",
              "      <td>0.000</td>\n",
              "    </tr>\n",
              "    <tr>\n",
              "      <th>...</th>\n",
              "      <td>...</td>\n",
              "      <td>...</td>\n",
              "      <td>...</td>\n",
              "      <td>...</td>\n",
              "      <td>...</td>\n",
              "      <td>...</td>\n",
              "      <td>...</td>\n",
              "    </tr>\n",
              "    <tr>\n",
              "      <th>2010-12-31 20:00:00</th>\n",
              "      <td>0.536</td>\n",
              "      <td>0.069</td>\n",
              "      <td>0.929</td>\n",
              "      <td>0.749</td>\n",
              "      <td>0.794</td>\n",
              "      <td>0.921</td>\n",
              "      <td>0.884</td>\n",
              "    </tr>\n",
              "    <tr>\n",
              "      <th>2010-12-31 21:00:00</th>\n",
              "      <td>0.662</td>\n",
              "      <td>0.048</td>\n",
              "      <td>0.702</td>\n",
              "      <td>0.837</td>\n",
              "      <td>0.738</td>\n",
              "      <td>0.895</td>\n",
              "      <td>0.884</td>\n",
              "    </tr>\n",
              "    <tr>\n",
              "      <th>2010-12-31 22:00:00</th>\n",
              "      <td>0.817</td>\n",
              "      <td>0.016</td>\n",
              "      <td>0.820</td>\n",
              "      <td>0.749</td>\n",
              "      <td>0.799</td>\n",
              "      <td>0.868</td>\n",
              "      <td>0.859</td>\n",
              "    </tr>\n",
              "    <tr>\n",
              "      <th>2010-12-31 23:00:00</th>\n",
              "      <td>0.677</td>\n",
              "      <td>0.000</td>\n",
              "      <td>0.968</td>\n",
              "      <td>0.722</td>\n",
              "      <td>0.880</td>\n",
              "      <td>0.882</td>\n",
              "      <td>0.833</td>\n",
              "    </tr>\n",
              "    <tr>\n",
              "      <th>2011-01-01 00:00:00</th>\n",
              "      <td>0.551</td>\n",
              "      <td>0.000</td>\n",
              "      <td>0.968</td>\n",
              "      <td>0.645</td>\n",
              "      <td>0.900</td>\n",
              "      <td>0.921</td>\n",
              "      <td>0.833</td>\n",
              "    </tr>\n",
              "  </tbody>\n",
              "</table>\n",
              "<p>13176 rows × 7 columns</p>\n",
              "</div>"
            ],
            "text/plain": [
              "                       wp1    wp2    wp3    wp4    wp5    wp6    wp7\n",
              "date                                                                \n",
              "2009-07-01 01:00:00  0.085  0.249  0.257  0.105  0.066  0.066  0.051\n",
              "2009-07-01 02:00:00  0.020  0.175  0.178  0.033  0.015  0.026  0.000\n",
              "2009-07-01 03:00:00  0.060  0.085  0.109  0.022  0.010  0.013  0.000\n",
              "2009-07-01 04:00:00  0.045  0.032  0.079  0.039  0.010  0.000  0.000\n",
              "2009-07-01 05:00:00  0.035  0.011  0.099  0.066  0.015  0.013  0.000\n",
              "...                    ...    ...    ...    ...    ...    ...    ...\n",
              "2010-12-31 20:00:00  0.536  0.069  0.929  0.749  0.794  0.921  0.884\n",
              "2010-12-31 21:00:00  0.662  0.048  0.702  0.837  0.738  0.895  0.884\n",
              "2010-12-31 22:00:00  0.817  0.016  0.820  0.749  0.799  0.868  0.859\n",
              "2010-12-31 23:00:00  0.677  0.000  0.968  0.722  0.880  0.882  0.833\n",
              "2011-01-01 00:00:00  0.551  0.000  0.968  0.645  0.900  0.921  0.833\n",
              "\n",
              "[13176 rows x 7 columns]"
            ]
          },
          "metadata": {},
          "execution_count": 107
        }
      ]
    },
    {
      "cell_type": "code",
      "metadata": {
        "id": "XS0qlfElRrD0"
      },
      "source": [
        "# Augmentation of data for high wind speeds\n",
        "x_train_high_ws = x_train_update[x_train_update.ws>6]\n",
        "x_train_augmented = pd.concat([x_train_high_ws,x_train_update[x_train_update.ws<6][:len(x_train_high_ws)]],axis=0)\n",
        "x_train_augmented = x_train_augmented.sort_values(by='time')\n",
        "y_train_augmented = y_train_update[y_train_update.index.isin(x_train_augmented.time)]"
      ],
      "execution_count": 138,
      "outputs": []
    },
    {
      "cell_type": "code",
      "metadata": {
        "id": "ABx3-1N3r-qc"
      },
      "source": [
        "# FFNN Day Ahead\n",
        "# Define the FFNN network\n",
        "class Net(nn.Module):\n",
        "\n",
        "    def __init__(self):\n",
        "        super(Net, self).__init__()\n",
        "        # input \n",
        "        self.inputLay = nn.Linear(in_features = 1,\n",
        "                               out_features = 128,\n",
        "                               bias = True)\n",
        "        self.hidden_layer = nn.Linear(in_features = 128,\n",
        "                                      out_features = 128,\n",
        "                                      bias = True)\n",
        "        self.hidden_layer2 = nn.Linear(in_features = 128,\n",
        "                              out_features = 128,\n",
        "                              bias = True)\n",
        "        self.output = nn.Linear(in_features = 128,\n",
        "                               out_features = 1,\n",
        "                               bias = True)\n",
        "\n",
        "    def forward(self, x):\n",
        "      x = self.inputLay(x)\n",
        "      x = F.elu(x) # F = nn.Functional\n",
        "      x = self.hidden_layer(x)\n",
        "      x = F.elu(x)\n",
        "      x = self.hidden_layer2(x)\n",
        "      x = F.elu(x)\n",
        "      out = self.output(x)\n",
        "\n",
        "      return out\n",
        "\n"
      ],
      "execution_count": 163,
      "outputs": []
    },
    {
      "cell_type": "code",
      "metadata": {
        "colab": {
          "base_uri": "https://localhost:8080/"
        },
        "id": "o1Z0jrqtsBFO",
        "outputId": "3fa637df-85e4-499c-b1ed-8c25eb8ef2b6"
      },
      "source": [
        "FFNN_mapping = Net()\n",
        "print(FFNN_mapping)"
      ],
      "execution_count": 164,
      "outputs": [
        {
          "output_type": "stream",
          "name": "stdout",
          "text": [
            "Net(\n",
            "  (inputLay): Linear(in_features=1, out_features=128, bias=True)\n",
            "  (hidden_layer): Linear(in_features=128, out_features=128, bias=True)\n",
            "  (hidden_layer2): Linear(in_features=128, out_features=128, bias=True)\n",
            "  (output): Linear(in_features=128, out_features=1, bias=True)\n",
            ")\n"
          ]
        }
      ]
    },
    {
      "cell_type": "code",
      "metadata": {
        "colab": {
          "base_uri": "https://localhost:8080/"
        },
        "id": "nMffARSYsFPs",
        "outputId": "6a0de26d-646c-4eec-e5f3-f8bc7486efe2"
      },
      "source": [
        "# Test the FFNN\n",
        "FFNN_mapping(   torch.Tensor(np.array([x_train_update.ws.iloc[0:6]]).T)    )"
      ],
      "execution_count": 165,
      "outputs": [
        {
          "output_type": "execute_result",
          "data": {
            "text/plain": [
              "tensor([[-0.0774],\n",
              "        [-0.0261],\n",
              "        [-0.1084],\n",
              "        [-0.2983],\n",
              "        [-0.4986],\n",
              "        [-0.5308]], grad_fn=<AddmmBackward0>)"
            ]
          },
          "metadata": {},
          "execution_count": 165
        }
      ]
    },
    {
      "cell_type": "code",
      "metadata": {
        "id": "hdqTYC3EsF0Y"
      },
      "source": [
        "# Set the parameters for training\n",
        "\n",
        "FFNN_mapping = Net()\n",
        "# Convert to cuda if GPU available\n",
        "if torch.cuda.is_available():\n",
        "    print('##converting network to cuda-enabled')\n",
        "    FFNN_mapping.cuda()\n",
        "\n",
        "# Define loss function and train parameters\n",
        "criterion = nn.MSELoss()    \n",
        "\n",
        "# Adam gradient descent with learning rate decay\n",
        "optimizer = optim.Adam(FFNN_mapping.parameters(), lr=1e-4)\n",
        "\n",
        "# Length of the training and batches\n",
        "epochs = 50\n",
        "batch_size = 8\n",
        "num_batch = len(x_train_augmented)//batch_size\n",
        "\n",
        "# Function to get the batch\n",
        "get_batch = lambda i, size: range(i * size, (i + 1) * size)\n",
        "\n",
        "# Track loss\n",
        "training_RMSE = []\n"
      ],
      "execution_count": 166,
      "outputs": []
    },
    {
      "cell_type": "code",
      "metadata": {
        "id": "tB5Y8xpid9fM"
      },
      "source": [
        ""
      ],
      "execution_count": 166,
      "outputs": []
    },
    {
      "cell_type": "code",
      "metadata": {
        "colab": {
          "base_uri": "https://localhost:8080/"
        },
        "id": "u7PDB4frsF94",
        "outputId": "ce27eb6c-42d8-4f91-a506-1815946a1206"
      },
      "source": [
        "# Training\n",
        "\n",
        "# Loop over epochs\n",
        "for i in range(epochs):\n",
        "\n",
        "    epoch_training_loss = 0\n",
        "\n",
        "    FFNN_mapping.train()\n",
        "\n",
        "    # For each sequence in training set\n",
        "    for b in range(num_batch):\n",
        "\n",
        "      batch_index = get_batch(b,batch_size)\n",
        "                 \n",
        "      # Get inputs and targets\n",
        "      inputs = torch.transpose(torch.Tensor([np.array(x_train_augmented.ws)[batch_index]]),0,1) # wind speed\n",
        "      targets = torch.Tensor(np.array(y_train_augmented.wp1)[batch_index])  # power\n",
        "\n",
        "      # Convert to cuda to run on GPU\n",
        "      if torch.cuda.is_available():\n",
        "            inputs, targets = Variable(inputs.cuda()), Variable(targets.cuda())\n",
        "\n",
        "      # Forward pass\n",
        "      outputs = FFNN_mapping(inputs)\n",
        "          \n",
        "      # Compute loss\n",
        "      loss = criterion(outputs, targets)\n",
        "          \n",
        "      # Backward pass\n",
        "      optimizer.zero_grad()\n",
        "      loss.backward()\n",
        "      optimizer.step()\n",
        "          \n",
        "      # Update loss\n",
        "      if torch.cuda.is_available():\n",
        "        epoch_training_loss += loss.cpu().detach().numpy()\n",
        "      else:\n",
        "        epoch_training_loss += loss.detach().numpy()\n",
        "    \n",
        "    # Save loss for plot\n",
        "    epoch_RMSE = np.sqrt(epoch_training_loss/(num_batch))\n",
        "    training_RMSE.append(epoch_RMSE)\n",
        "\n",
        "    # Compute confidence interval\n",
        "    # CI = [norm.ppf(0.025)*training_RMSE[-1],norm.ppf(0.975)*training_RMSE[-1]]\n",
        "\n",
        "    # Print loss every 10 epochs\n",
        "    if i % 1 == 0:\n",
        "        print('Epoch %d, training RMSE: %.3f' % (i+1,training_RMSE[-1]))"
      ],
      "execution_count": 167,
      "outputs": [
        {
          "output_type": "stream",
          "name": "stderr",
          "text": [
            "/usr/local/lib/python3.7/dist-packages/torch/nn/modules/loss.py:520: UserWarning: Using a target size (torch.Size([8])) that is different to the input size (torch.Size([8, 1])). This will likely lead to incorrect results due to broadcasting. Please ensure they have the same size.\n",
            "  return F.mse_loss(input, target, reduction=self.reduction)\n"
          ]
        },
        {
          "output_type": "stream",
          "name": "stdout",
          "text": [
            "Epoch 1, training RMSE: 4.320\n",
            "Epoch 2, training RMSE: 0.361\n",
            "Epoch 3, training RMSE: 0.247\n",
            "Epoch 4, training RMSE: 0.234\n",
            "Epoch 5, training RMSE: 0.249\n",
            "Epoch 6, training RMSE: 0.247\n",
            "Epoch 7, training RMSE: 0.284\n",
            "Epoch 8, training RMSE: 0.268\n",
            "Epoch 9, training RMSE: 0.281\n",
            "Epoch 10, training RMSE: 0.286\n",
            "Epoch 11, training RMSE: 0.292\n",
            "Epoch 12, training RMSE: 0.284\n",
            "Epoch 13, training RMSE: 0.291\n",
            "Epoch 14, training RMSE: 0.301\n",
            "Epoch 15, training RMSE: 0.280\n",
            "Epoch 16, training RMSE: 0.295\n",
            "Epoch 17, training RMSE: 0.294\n",
            "Epoch 18, training RMSE: 0.283\n",
            "Epoch 19, training RMSE: 0.287\n",
            "Epoch 20, training RMSE: 0.285\n",
            "Epoch 21, training RMSE: 0.285\n",
            "Epoch 22, training RMSE: 0.285\n",
            "Epoch 23, training RMSE: 0.287\n",
            "Epoch 24, training RMSE: 0.292\n",
            "Epoch 25, training RMSE: 0.281\n",
            "Epoch 26, training RMSE: 0.284\n",
            "Epoch 27, training RMSE: 0.279\n",
            "Epoch 28, training RMSE: 0.296\n",
            "Epoch 29, training RMSE: 0.272\n",
            "Epoch 30, training RMSE: 0.284\n",
            "Epoch 31, training RMSE: 0.277\n",
            "Epoch 32, training RMSE: 0.280\n",
            "Epoch 33, training RMSE: 0.279\n",
            "Epoch 34, training RMSE: 0.279\n",
            "Epoch 35, training RMSE: 0.279\n",
            "Epoch 36, training RMSE: 0.279\n",
            "Epoch 37, training RMSE: 0.279\n",
            "Epoch 38, training RMSE: 0.279\n",
            "Epoch 39, training RMSE: 0.282\n",
            "Epoch 40, training RMSE: 0.283\n",
            "Epoch 41, training RMSE: 0.282\n",
            "Epoch 42, training RMSE: 0.284\n",
            "Epoch 43, training RMSE: 0.274\n",
            "Epoch 44, training RMSE: 0.276\n",
            "Epoch 45, training RMSE: 0.281\n",
            "Epoch 46, training RMSE: 0.278\n",
            "Epoch 47, training RMSE: 0.276\n",
            "Epoch 48, training RMSE: 0.276\n",
            "Epoch 49, training RMSE: 0.276\n",
            "Epoch 50, training RMSE: 0.276\n"
          ]
        }
      ]
    },
    {
      "cell_type": "code",
      "metadata": {
        "colab": {
          "base_uri": "https://localhost:8080/",
          "height": 279
        },
        "id": "Ep83hYL6sGAE",
        "outputId": "4c4e4010-5b73-409d-f325-b6a507182c48"
      },
      "source": [
        "# Plot training loss\n",
        "epoch = np.arange(len(training_RMSE))\n",
        "plt.figure()\n",
        "plt.plot(epoch, training_RMSE, 'r')\n",
        "plt.xlabel('Epoch'), plt.ylabel('Training RMSE')\n",
        "plt.show()"
      ],
      "execution_count": 153,
      "outputs": [
        {
          "output_type": "display_data",
          "data": {
            "image/png": "[encoded data removed]",
            "text/plain": [
              "<Figure size 432x288 with 1 Axes>"
            ]
          },
          "metadata": {
            "needs_background": "light"
          }
        }
      ]
    },
    {
      "cell_type": "code",
      "metadata": {
        "colab": {
          "base_uri": "https://localhost:8080/",
          "height": 279
        },
        "id": "BvU2Tg0dsGDK",
        "outputId": "acc09e47-c44f-4e49-bacb-48bf1fed3b28"
      },
      "source": [
        "# Plot the learnt power curve\n",
        "power = []\n",
        "v = []\n",
        "for i in range(40):\n",
        "  v.append(i)\n",
        "  power.append(FFNN_mapping(torch.Tensor([i])).detach().numpy())\n",
        "\n",
        "plt.plot(v,power)\n",
        "plt.xlabel('Wind speed [m/s]')\n",
        "plt.ylabel('Power')\n",
        "plt.grid()"
      ],
      "execution_count": 145,
      "outputs": [
        {
          "output_type": "display_data",
          "data": {
            "image/png": "[encoded data removed]",
            "text/plain": [
              "<Figure size 432x288 with 1 Axes>"
            ]
          },
          "metadata": {
            "needs_background": "light"
          }
        }
      ]
    },
    {
      "cell_type": "code",
      "metadata": {
        "colab": {
          "base_uri": "https://localhost:8080/",
          "height": 301
        },
        "id": "gO5stspGf-0Z",
        "outputId": "af3ee0fc-99c6-490d-b8a9-949d4f84bcd1"
      },
      "source": [
        "# Scatter plot of the power as function of wind speed\n",
        "plt.scatter(x_train_augmented.ws,y_train_augmented.wp1,label='True values')\n",
        "plt.xlabel('Wind speed [m/s]')\n",
        "plt.ylabel('Power')\n",
        "plt.grid()\n",
        "plt.plot(v,power,'r',label='Predictions')\n",
        "plt.xlim([0, 15])\n",
        "plt.ylim([-0.1, 1])\n",
        "plt.legend()"
      ],
      "execution_count": 147,
      "outputs": [
        {
          "output_type": "execute_result",
          "data": {
            "text/plain": [
              "<matplotlib.legend.Legend at 0x7f0491911b50>"
            ]
          },
          "metadata": {},
          "execution_count": 147
        },
        {
          "output_type": "display_data",
          "data": {
            "image/png": "[encoded data removed]",
            "text/plain": [
              "<Figure size 432x288 with 1 Axes>"
            ]
          },
          "metadata": {
            "needs_background": "light"
          }
        }
      ]
    },
    {
      "cell_type": "code",
      "metadata": {
        "id": "oKNdaZpqKBmD"
      },
      "source": [
        ""
      ],
      "execution_count": 89,
      "outputs": []
    }
  ]
}
