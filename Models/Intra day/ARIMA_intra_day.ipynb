{
  "nbformat": 4,
  "nbformat_minor": 0,
  "metadata": {
    "colab": {
      "name": "ARIMA_intra_day.ipynb",
      "provenance": []
    },
    "kernelspec": {
      "name": "python3",
      "display_name": "Python 3"
    },
    "language_info": {
      "name": "python"
    }
  },
  "cells": [
    {
      "cell_type": "markdown",
      "metadata": {
        "id": "qlqp8zoMBcDp"
      },
      "source": [
        "**Autoregressive model as a benchmark**"
      ]
    },
    {
      "cell_type": "code",
      "metadata": {
        "id": "IqVZ6gRnBX6B"
      },
      "source": [
        "# from google.colab import drive\n",
        "# drive.mount('/content/drive')"
      ],
      "execution_count": 1,
      "outputs": []
    },
    {
      "cell_type": "code",
      "metadata": {
        "id": "7fJi80SrBFgL"
      },
      "source": [
        "import numpy as np\n",
        "import pandas as pd\n",
        "import matplotlib.pyplot as plt\n",
        "import seaborn as sns\n",
        "import statistics as stat\n",
        "from scipy.stats import norm\n",
        "\n",
        "# Import pytorch utilities\n",
        "import torch\n",
        "import torch.nn as nn\n",
        "import torch.nn.functional as F\n",
        "import torch.optim as optim\n",
        "from torch.autograd import Variable\n",
        "\n",
        "from tensorflow.keras.preprocessing.sequence import TimeseriesGenerator"
      ],
      "execution_count": 2,
      "outputs": []
    },
    {
      "cell_type": "code",
      "metadata": {
        "id": "2Qp3CaezBQTA"
      },
      "source": [
        "x_train = pd.read_csv('windforecasts_wf1.csv', index_col='date')\n",
        "y_train = pd.read_csv('train.csv')\n",
        "# just consider the wind farm 1"
      ],
      "execution_count": 3,
      "outputs": []
    },
    {
      "cell_type": "code",
      "metadata": {
        "id": "DuH4nBnNCwpO"
      },
      "source": [
        "y_train['date'] = pd.to_datetime(y_train.date, format= '%Y%m%d%H')\n",
        "y_train.index = y_train['date'] \n",
        "y_train.drop('date', inplace = True, axis = 1)"
      ],
      "execution_count": 4,
      "outputs": []
    },
    {
      "cell_type": "code",
      "metadata": {
        "id": "wDFnQp-WD0we"
      },
      "source": [
        "# Use only the power time series when continuous\n",
        "\n",
        "complete_ts = y_train[:'2011-01-01 00'] # all the data without any gaps\n",
        "input_generator = np.transpose(np.array([complete_ts.wp1]))\n",
        "length = 24 # length of the time series, PARAMETER TO TUNE"
      ],
      "execution_count": 5,
      "outputs": []
    },
    {
      "cell_type": "code",
      "metadata": {
        "id": "RIU5h3KcD8fQ"
      },
      "source": [
        "# Define the validation set as one sequence\n",
        "validation_power = input_generator[int(len(input_generator)*0.8)+1 : int(len(input_generator))-1]"
      ],
      "execution_count": 6,
      "outputs": []
    },
    {
      "cell_type": "code",
      "metadata": {
        "id": "EOJZC6Z6D9Vi"
      },
      "source": [
        "# Define slices of 24h inputs and corresponding targets 1, 2 and 3 hours ahead\n",
        "p_inputs = []\n",
        "p_targets1h = []\n",
        "p_targets2h = []\n",
        "p_targets3h = []\n",
        "p_targets4h = []\n",
        "p_targets5h = []\n",
        "p_targets6h = []\n",
        "for i in range(33,len(validation_power)-8):\n",
        "  p_inputs.append(validation_power[i:i+3])\n",
        "  p_targets1h.append(validation_power[i+3])\n",
        "  p_targets2h.append(validation_power[i+4])\n",
        "  p_targets3h.append(validation_power[i+5])\n",
        "  p_targets4h.append(validation_power[i+6])\n",
        "  p_targets5h.append(validation_power[i+7])\n",
        "  p_targets6h.append(validation_power[i+8])"
      ],
      "execution_count": 22,
      "outputs": []
    },
    {
      "cell_type": "code",
      "metadata": {
        "colab": {
          "base_uri": "https://localhost:8080/"
        },
        "id": "HAqCJD66yzGn",
        "outputId": "2f0abb1f-09b2-4598-f46d-5a56e9a4725d"
      },
      "source": [
        "p_targets1h[-1]"
      ],
      "execution_count": 21,
      "outputs": [
        {
          "output_type": "execute_result",
          "data": {
            "text/plain": [
              "array([0.677])"
            ]
          },
          "metadata": {},
          "execution_count": 21
        }
      ]
    },
    {
      "cell_type": "code",
      "metadata": {
        "id": "zIEnvkr6E1OT"
      },
      "source": [
        "# Definition of ARIMA model (was fitted in Matlab using the training set)\n",
        "# P_t = a + b*P_{t-1} + c*P_{t-2} + d*P{t-3}\n",
        "a = 0.0139\n",
        "b = 1.189\n",
        "c = -0.282\n",
        "d = 0.0361"
      ],
      "execution_count": 8,
      "outputs": []
    },
    {
      "cell_type": "code",
      "metadata": {
        "colab": {
          "base_uri": "https://localhost:8080/"
        },
        "id": "vhrXO-LWFuNd",
        "outputId": "3f2aeed5-3c67-4af8-f15b-fc724d498d70"
      },
      "source": [
        "# Forecasting 1, 2 and 3 hours ahead\n",
        "\n",
        "# Store predictions and errors\n",
        "pred_1h = []\n",
        "err_1h = []\n",
        "pred_2h = []\n",
        "err_2h = []\n",
        "pred_3h = []\n",
        "err_3h = []\n",
        "pred_4h = []\n",
        "err_4h = []\n",
        "pred_5h = []\n",
        "err_5h = []\n",
        "pred_6h = []\n",
        "err_6h = []\n",
        "\n",
        "# Loop over the sequences of valid data\n",
        "for seq in range(len(p_inputs)):\n",
        "\n",
        "    # Define past value for the 1h forecast\n",
        "    past = p_inputs[seq]\n",
        "    \n",
        "    # Take ARIMA output for the past sequence\n",
        "    pred_1h.append(a + b*past[2] + c*past[1] + d*past[0])\n",
        "    err_1h.append(pred_1h[-1][0]-p_targets1h[seq][0])\n",
        "\n",
        "    # Repeat with prediction 2 hours ahead actualizing the past values\n",
        "    past = np.append(past,[pred_1h[-1]],0)\n",
        "    pred_2h.append(a + b*past[3] + c*past[2] + d*past[1])\n",
        "    err_2h.append(pred_2h[-1][0]-p_targets2h[seq][0])\n",
        "\n",
        "    # Repeat with prediction 3 hours ahead\n",
        "    past = np.append(past,[pred_2h[-1]],0)\n",
        "    pred_3h.append(a + b*past[4] + c*past[3] + d*past[2])\n",
        "    err_3h.append(pred_3h[-1][0]-p_targets3h[seq][0])\n",
        "\n",
        "    # Repeat with prediction 4 hours ahead\n",
        "    past = np.append(past,[pred_3h[-1]],0)\n",
        "    pred_4h.append(a + b*past[5] + c*past[4] + d*past[3])\n",
        "    err_4h.append(pred_4h[-1][0]-p_targets4h[seq][0])\n",
        "\n",
        "    # Repeat with prediction 5 hours ahead\n",
        "    past = np.append(past,[pred_4h[-1]],0)\n",
        "    pred_5h.append(a + b*past[6] + c*past[5] + d*past[4])\n",
        "    err_5h.append(pred_5h[-1][0]-p_targets5h[seq][0])\n",
        "\n",
        "    # Repeat with prediction 6 hours ahead\n",
        "    past = np.append(past,[pred_5h[-1]],0)\n",
        "    pred_6h.append(a + b*past[7] + c*past[6] + d*past[5])\n",
        "    err_6h.append(pred_6h[-1][0]-p_targets6h[seq][0])\n",
        "\n",
        "    if seq % 100 == 0:\n",
        "      print(f'step {seq+1}, RMSE 1h: {np.sqrt(stat.mean(err_1h[n]**2 for n in range(len(err_1h))))}, RMSE 2h: {np.sqrt(stat.mean(err_2h[n]**2 for n in range(len(err_2h))))}, RMSE 3h: {np.sqrt(stat.mean(err_3h[n]**2 for n in range(len(err_3h))))}, RMSE 4h: {np.sqrt(stat.mean(err_4h[n]**2 for n in range(len(err_4h))))}, RMSE 5h: {np.sqrt(stat.mean(err_5h[n]**2 for n in range(len(err_5h))))}, RMSE 6h: {np.sqrt(stat.mean(err_6h[n]**2 for n in range(len(err_6h))))}')"
      ],
      "execution_count": 23,
      "outputs": [
        {
          "output_type": "stream",
          "name": "stdout",
          "text": [
            "step 1, RMSE 1h: 0.045467399999999936, RMSE 2h: 0.10874863859999984, RMSE 3h: 0.15444422449539985, RMSE 4h: 0.21930133997983037, RMSE 5h: 0.28430424778177554, RMSE 6h: 0.14661510924250282\n",
            "step 101, RMSE 1h: 0.0628139123390316, RMSE 2h: 0.10276508405052105, RMSE 3h: 0.12504098913512904, RMSE 4h: 0.1382494841424183, RMSE 5h: 0.14921857708087624, RMSE 6h: 0.15983270281782166\n",
            "step 201, RMSE 1h: 0.06971821161399318, RMSE 2h: 0.10947304418612125, RMSE 3h: 0.13429017806505814, RMSE 4h: 0.14839147579856782, RMSE 5h: 0.16122427273771917, RMSE 6h: 0.17508801371820407\n",
            "step 301, RMSE 1h: 0.07147181316481051, RMSE 2h: 0.11223945350982892, RMSE 3h: 0.13766539152272722, RMSE 4h: 0.1537785637890471, RMSE 5h: 0.1669446258916058, RMSE 6h: 0.18173493526389065\n",
            "step 401, RMSE 1h: 0.06861351306619791, RMSE 2h: 0.1080009904547911, RMSE 3h: 0.13330212352764972, RMSE 4h: 0.14991575000444715, RMSE 5h: 0.1635291678958624, RMSE 6h: 0.17746205607212523\n",
            "step 501, RMSE 1h: 0.06617313114720814, RMSE 2h: 0.10358291756543458, RMSE 3h: 0.12666352828735752, RMSE 4h: 0.14209042028924437, RMSE 5h: 0.15450296487673273, RMSE 6h: 0.16684380620176378\n",
            "step 601, RMSE 1h: 0.07130063471314337, RMSE 2h: 0.11017446740323583, RMSE 3h: 0.13377983526839193, RMSE 4h: 0.1518171000297398, RMSE 5h: 0.1662701387723413, RMSE 6h: 0.17901002184897008\n",
            "step 701, RMSE 1h: 0.0683661368543588, RMSE 2h: 0.10621469688979795, RMSE 3h: 0.1292219455059948, RMSE 4h: 0.14637216623587226, RMSE 5h: 0.1600918706755289, RMSE 6h: 0.17212941480106975\n",
            "step 801, RMSE 1h: 0.07069761360199212, RMSE 2h: 0.11266508995246631, RMSE 3h: 0.13858709637795297, RMSE 4h: 0.15772947563128398, RMSE 5h: 0.17301838792623425, RMSE 6h: 0.18605799331208556\n",
            "step 901, RMSE 1h: 0.0726178452368483, RMSE 2h: 0.11568073648924132, RMSE 3h: 0.14302346388809825, RMSE 4h: 0.16303121015218017, RMSE 5h: 0.17858929835501278, RMSE 6h: 0.19141415524365574\n",
            "step 1001, RMSE 1h: 0.07340672363300496, RMSE 2h: 0.11505691043632656, RMSE 3h: 0.14157565085365298, RMSE 4h: 0.16039168331054782, RMSE 5h: 0.17520682894762, RMSE 6h: 0.18783372176851357\n",
            "step 1101, RMSE 1h: 0.07278053016880806, RMSE 2h: 0.11436865171141446, RMSE 3h: 0.1412348929499592, RMSE 4h: 0.16072423369038308, RMSE 5h: 0.1763367317707999, RMSE 6h: 0.18959909854491064\n",
            "step 1201, RMSE 1h: 0.07180417680760368, RMSE 2h: 0.11218261271253269, RMSE 3h: 0.13847696311149338, RMSE 4h: 0.15769861555713938, RMSE 5h: 0.17280168577861557, RMSE 6h: 0.18553614663451545\n",
            "step 1301, RMSE 1h: 0.0700581267477251, RMSE 2h: 0.10942609746718684, RMSE 3h: 0.13507870828031415, RMSE 4h: 0.15397585110557602, RMSE 5h: 0.16876611932127977, RMSE 6h: 0.1810885666963418\n",
            "step 1401, RMSE 1h: 0.07020424174586858, RMSE 2h: 0.10969165623324582, RMSE 3h: 0.13540628599524443, RMSE 4h: 0.1548045778245739, RMSE 5h: 0.1699185352607115, RMSE 6h: 0.1823954335881224\n",
            "step 1501, RMSE 1h: 0.07017375949159466, RMSE 2h: 0.10857973053072972, RMSE 3h: 0.13354833538166266, RMSE 4h: 0.1528609951256547, RMSE 5h: 0.16790452119651691, RMSE 6h: 0.1799845648052803\n",
            "step 1601, RMSE 1h: 0.07204331621424977, RMSE 2h: 0.11291723961262669, RMSE 3h: 0.13964916394920793, RMSE 4h: 0.160400720795754, RMSE 5h: 0.17703465707836824, RMSE 6h: 0.19031490127619158\n",
            "step 1701, RMSE 1h: 0.07293503319694992, RMSE 2h: 0.11453497905212766, RMSE 3h: 0.14234966324641507, RMSE 4h: 0.16432924710789917, RMSE 5h: 0.1820004783957608, RMSE 6h: 0.19601354472237154\n",
            "step 1801, RMSE 1h: 0.07390583471731087, RMSE 2h: 0.11602606526272734, RMSE 3h: 0.14442669593552226, RMSE 4h: 0.1673273769483872, RMSE 5h: 0.185892151117714, RMSE 6h: 0.20064206031429957\n",
            "step 1901, RMSE 1h: 0.07403889104200498, RMSE 2h: 0.11631253775526461, RMSE 3h: 0.14459506394271135, RMSE 4h: 0.1673193780082757, RMSE 5h: 0.18587828732038533, RMSE 6h: 0.2008101292503048\n",
            "step 2001, RMSE 1h: 0.07303709053023309, RMSE 2h: 0.11493832709874831, RMSE 3h: 0.14295114035178422, RMSE 4h: 0.16542883181043389, RMSE 5h: 0.1838145380892177, RMSE 6h: 0.19859726166922112\n",
            "step 2101, RMSE 1h: 0.0726192860006842, RMSE 2h: 0.11397381413254007, RMSE 3h: 0.14150000736195573, RMSE 4h: 0.16364451239178315, RMSE 5h: 0.1816877950261807, RMSE 6h: 0.19614729863192104\n",
            "step 2201, RMSE 1h: 0.07270904926374133, RMSE 2h: 0.11433729334461631, RMSE 3h: 0.1421310617346875, RMSE 4h: 0.16458767927214749, RMSE 5h: 0.18260751895132057, RMSE 6h: 0.19714182203055367\n",
            "step 2301, RMSE 1h: 0.07207955486947912, RMSE 2h: 0.11349936316428486, RMSE 3h: 0.1410826641976365, RMSE 4h: 0.16328238812650459, RMSE 5h: 0.18110987935257325, RMSE 6h: 0.1956824657798098\n",
            "step 2401, RMSE 1h: 0.0706663365965804, RMSE 2h: 0.11132645116271785, RMSE 3h: 0.13844713515834264, RMSE 4h: 0.16029497324014216, RMSE 5h: 0.17786861741765542, RMSE 6h: 0.19224410771078415\n",
            "step 2501, RMSE 1h: 0.06965972723667117, RMSE 2h: 0.10979633103363062, RMSE 3h: 0.13659610534315447, RMSE 4h: 0.15821106592278897, RMSE 5h: 0.1755737954151991, RMSE 6h: 0.18974456476071666\n"
          ]
        }
      ]
    },
    {
      "cell_type": "code",
      "metadata": {
        "colab": {
          "base_uri": "https://localhost:8080/"
        },
        "id": "rSFYYJ-QHjex",
        "outputId": "7e1306f8-e4f0-4e29-ad54-d6739261449a"
      },
      "source": [
        "# Estimation of confidence intervals:\n",
        "RMSE_1h = np.sqrt(stat.mean(err_1h[n]**2 for n in range(len(err_1h))))\n",
        "RMSE_2h = np.sqrt(stat.mean(err_2h[n]**2 for n in range(len(err_2h))))\n",
        "RMSE_3h = np.sqrt(stat.mean(err_3h[n]**2 for n in range(len(err_3h))))\n",
        "CI_1h = [norm.ppf(0.025)*RMSE_1h,norm.ppf(0.975)*RMSE_1h]\n",
        "CI_2h = [norm.ppf(0.025)*RMSE_2h,norm.ppf(0.975)*RMSE_2h]\n",
        "CI_3h = [norm.ppf(0.025)*RMSE_3h,norm.ppf(0.975)*RMSE_3h]\n",
        "print(f'Confidence interval 1h: {CI_1h}')\n",
        "print(f'Confidence interval 2h: {CI_2h}')\n",
        "print(f'Confidence interval 3h: {CI_3h}')\n",
        "MAE_1h = stat.mean(np.abs(err_1h[n]) for n in range(len(err_1h)))\n",
        "MAE_2h = stat.mean(np.abs(err_2h[n]) for n in range(len(err_2h)))\n",
        "MAE_3h = stat.mean(np.abs(err_3h[n]) for n in range(len(err_3h)))\n",
        "MAE_4h = stat.mean(np.abs(err_4h[n]) for n in range(len(err_4h)))\n",
        "MAE_5h = stat.mean(np.abs(err_5h[n]) for n in range(len(err_5h)))\n",
        "MAE_6h = stat.mean(np.abs(err_6h[n]) for n in range(len(err_6h)))"
      ],
      "execution_count": 24,
      "outputs": [
        {
          "output_type": "stream",
          "name": "stdout",
          "text": [
            "Confidence interval 1h: [-0.1356837401693049, 0.13568374016930487]\n",
            "Confidence interval 2h: [-0.21401314081312967, 0.21401314081312964]\n",
            "Confidence interval 3h: [-0.26645237089503265, 0.2664523708950326]\n"
          ]
        }
      ]
    },
    {
      "cell_type": "code",
      "metadata": {
        "id": "PO_6VFMjOD6z",
        "colab": {
          "base_uri": "https://localhost:8080/"
        },
        "outputId": "eeee4571-dd6c-4255-8051-14fb2ed68975"
      },
      "source": [
        "MAE_6h"
      ],
      "execution_count": 11,
      "outputs": [
        {
          "output_type": "execute_result",
          "data": {
            "text/plain": [
              "0.14700931107540477"
            ]
          },
          "metadata": {},
          "execution_count": 11
        }
      ]
    },
    {
      "cell_type": "code",
      "metadata": {
        "id": "8ZIjfDZ4wo3c",
        "colab": {
          "base_uri": "https://localhost:8080/"
        },
        "outputId": "b9ad8e4a-d7d2-4a01-9c0a-505004c6cbf4"
      },
      "source": [
        "price=140 # euro/MWh\n",
        "scale=100 #MW\n",
        "penalty = 30 #euro/MWh\n",
        "\n",
        "Rev_perf_1h=np.sum(scale*np.squeeze(p_targets1h)*price)\n",
        "print(\"Perfect revenue {} MEuro\".format(np.round(Rev_perf_1h/1e6,4)))\n",
        "\n",
        "Rev_3m_1h=scale*np.sum(np.squeeze(p_targets1h)*price - np.abs(err_1h)*penalty)  #Euro\n",
        "print(\"The revenue of the best model 1h ahead is {} MEuro\".format(np.round(Rev_3m_1h/1e6,2)))\n",
        "\n",
        "Rev_3m_3h=scale*np.sum(np.squeeze(p_targets3h)*price - np.abs(err_3h)*penalty)  #Euro\n",
        "print(\"The revenue of the best model 3h ahead is {} MEuro\".format(np.round(Rev_3m_3h/1e6,2)))\n",
        "\n",
        "Rev_3m_6h=scale*np.sum(np.squeeze(p_targets6h)*price - np.abs(err_6h)*penalty) #Euro\n",
        "print(\"The revenue of the best model 6h ahead is {} MEuro\".format(np.round(Rev_3m_6h/1e6,2)))"
      ],
      "execution_count": 25,
      "outputs": [
        {
          "output_type": "stream",
          "name": "stdout",
          "text": [
            "Perfect revenue 10.2763 MEuro\n",
            "The revenue of the best model 1h ahead is 9.91 MEuro\n",
            "The revenue of the best model 3h ahead is 9.5 MEuro\n",
            "The revenue of the best model 6h ahead is 9.15 MEuro\n"
          ]
        }
      ]
    },
    {
      "cell_type": "code",
      "metadata": {
        "colab": {
          "base_uri": "https://localhost:8080/"
        },
        "id": "YGAJHvt4xVpS",
        "outputId": "1ba25357-ae33-4e50-e003-2af4f73e2f52"
      },
      "source": [
        "p_targets1h[:30]"
      ],
      "execution_count": 14,
      "outputs": [
        {
          "output_type": "execute_result",
          "data": {
            "text/plain": [
              "[array([0.005]),\n",
              " array([0.06]),\n",
              " array([0.125]),\n",
              " array([0.18]),\n",
              " array([0.201]),\n",
              " array([0.12]),\n",
              " array([0.231]),\n",
              " array([0.406]),\n",
              " array([0.396]),\n",
              " array([0.566]),\n",
              " array([0.707]),\n",
              " array([0.807]),\n",
              " array([0.777]),\n",
              " array([0.612]),\n",
              " array([0.371]),\n",
              " array([0.135]),\n",
              " array([0.195]),\n",
              " array([0.17]),\n",
              " array([0.241]),\n",
              " array([0.201]),\n",
              " array([0.155]),\n",
              " array([0.16]),\n",
              " array([0.251]),\n",
              " array([0.326]),\n",
              " array([0.19]),\n",
              " array([0.125]),\n",
              " array([0.135]),\n",
              " array([0.11]),\n",
              " array([0.09]),\n",
              " array([0.14])]"
            ]
          },
          "metadata": {},
          "execution_count": 14
        }
      ]
    }
  ]
}