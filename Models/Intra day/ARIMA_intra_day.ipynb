{
  "nbformat": 4,
  "nbformat_minor": 0,
  "metadata": {
    "colab": {
      "name": "ARIMA_intra_day.ipynb",
      "provenance": []
    },
    "kernelspec": {
      "name": "python3",
      "display_name": "Python 3"
    },
    "language_info": {
      "name": "python"
    }
  },
  "cells": [
    {
      "cell_type": "markdown",
      "metadata": {
        "id": "qlqp8zoMBcDp"
      },
      "source": [
        "**Autoregressive model as a benchmark**"
      ]
    },
    {
      "cell_type": "code",
      "metadata": {
        "id": "IqVZ6gRnBX6B"
      },
      "source": [
        "# from google.colab import drive\n",
        "# drive.mount('/content/drive')"
      ],
      "execution_count": 30,
      "outputs": []
    },
    {
      "cell_type": "code",
      "metadata": {
        "id": "7fJi80SrBFgL"
      },
      "source": [
        "import numpy as np\n",
        "import pandas as pd\n",
        "import matplotlib.pyplot as plt\n",
        "import seaborn as sns\n",
        "import statistics as stat\n",
        "from scipy.stats import norm\n",
        "\n",
        "# Import pytorch utilities\n",
        "import torch\n",
        "import torch.nn as nn\n",
        "import torch.nn.functional as F\n",
        "import torch.optim as optim\n",
        "from torch.autograd import Variable\n",
        "\n",
        "from tensorflow.keras.preprocessing.sequence import TimeseriesGenerator"
      ],
      "execution_count": 31,
      "outputs": []
    },
    {
      "cell_type": "code",
      "metadata": {
        "id": "2Qp3CaezBQTA"
      },
      "source": [
        "x_train = pd.read_csv('windforecasts_wf1.csv', index_col='date')\n",
        "y_train = pd.read_csv('train.csv')\n",
        "# just consider the wind farm 1"
      ],
      "execution_count": 32,
      "outputs": []
    },
    {
      "cell_type": "code",
      "metadata": {
        "id": "DuH4nBnNCwpO"
      },
      "source": [
        "y_train['date'] = pd.to_datetime(y_train.date, format= '%Y%m%d%H')\n",
        "y_train.index = y_train['date'] \n",
        "y_train.drop('date', inplace = True, axis = 1)"
      ],
      "execution_count": 33,
      "outputs": []
    },
    {
      "cell_type": "code",
      "metadata": {
        "id": "wDFnQp-WD0we"
      },
      "source": [
        "# Use only the power time series when continuous\n",
        "\n",
        "complete_ts = y_train[:'2011-01-01 00'] # all the data without any gaps\n",
        "input_generator = np.transpose(np.array([complete_ts.wp1]))\n",
        "length = 24 # length of the time series, PARAMETER TO TUNE"
      ],
      "execution_count": 34,
      "outputs": []
    },
    {
      "cell_type": "code",
      "metadata": {
        "id": "RIU5h3KcD8fQ"
      },
      "source": [
        "# Define the validation set as one sequence\n",
        "validation_power = input_generator[int(len(input_generator)*0.8)+1 : int(len(input_generator))-1]"
      ],
      "execution_count": 35,
      "outputs": []
    },
    {
      "cell_type": "code",
      "metadata": {
        "id": "EOJZC6Z6D9Vi"
      },
      "source": [
        "# Define slices of 24h inputs and corresponding targets 1, 2 and 3 hours ahead\n",
        "p_inputs = []\n",
        "p_targets1h = []\n",
        "p_targets2h = []\n",
        "p_targets3h = []\n",
        "p_targets4h = []\n",
        "p_targets5h = []\n",
        "p_targets6h = []\n",
        "for i in range(len(validation_power)-8):\n",
        "  p_inputs.append(validation_power[i:i+3])\n",
        "  p_targets1h.append(validation_power[i+3])\n",
        "  p_targets2h.append(validation_power[i+4])\n",
        "  p_targets3h.append(validation_power[i+5])\n",
        "  p_targets4h.append(validation_power[i+6])\n",
        "  p_targets5h.append(validation_power[i+7])\n",
        "  p_targets6h.append(validation_power[i+8])"
      ],
      "execution_count": 36,
      "outputs": []
    },
    {
      "cell_type": "code",
      "metadata": {
        "id": "zIEnvkr6E1OT"
      },
      "source": [
        "# Definition of ARIMA model (was fitted in Matlab using the training set)\n",
        "# P_t = a + b*P_{t-1} + c*P_{t-2} + d*P{t-3}\n",
        "a = 0.0139\n",
        "b = 1.189\n",
        "c = -0.282\n",
        "d = 0.0361"
      ],
      "execution_count": 37,
      "outputs": []
    },
    {
      "cell_type": "code",
      "metadata": {
        "colab": {
          "base_uri": "https://localhost:8080/"
        },
        "id": "vhrXO-LWFuNd",
        "outputId": "f3293be5-4bb5-4248-f9dc-f5aeda5cdbec"
      },
      "source": [
        "# Forecasting 1, 2 and 3 hours ahead\n",
        "\n",
        "# Store predictions and errors\n",
        "pred_1h = []\n",
        "err_1h = []\n",
        "pred_2h = []\n",
        "err_2h = []\n",
        "pred_3h = []\n",
        "err_3h = []\n",
        "pred_4h = []\n",
        "err_4h = []\n",
        "pred_5h = []\n",
        "err_5h = []\n",
        "pred_6h = []\n",
        "err_6h = []\n",
        "\n",
        "# Loop over the sequences of valid data\n",
        "for seq in range(len(p_inputs)):\n",
        "\n",
        "    # Define past value for the 1h forecast\n",
        "    past = p_inputs[seq]\n",
        "    \n",
        "    # Take ARIMA output for the past sequence\n",
        "    pred_1h.append(a + b*past[2] + c*past[1] + d*past[0])\n",
        "    err_1h.append(pred_1h[-1][0]-p_targets1h[seq][0])\n",
        "\n",
        "    # Repeat with prediction 2 hours ahead actualizing the past values\n",
        "    past = np.append(past,[pred_1h[-1]],0)\n",
        "    pred_2h.append(a + b*past[3] + c*past[2] + d*past[1])\n",
        "    err_2h.append(pred_2h[-1][0]-p_targets2h[seq][0])\n",
        "\n",
        "    # Repeat with prediction 3 hours ahead\n",
        "    past = np.append(past,[pred_2h[-1]],0)\n",
        "    pred_3h.append(a + b*past[4] + c*past[3] + d*past[2])\n",
        "    err_3h.append(pred_3h[-1][0]-p_targets3h[seq][0])\n",
        "\n",
        "    # Repeat with prediction 4 hours ahead\n",
        "    past = np.append(past,[pred_3h[-1]],0)\n",
        "    pred_4h.append(a + b*past[5] + c*past[4] + d*past[3])\n",
        "    err_4h.append(pred_4h[-1][0]-p_targets4h[seq][0])\n",
        "\n",
        "    # Repeat with prediction 5 hours ahead\n",
        "    past = np.append(past,[pred_4h[-1]],0)\n",
        "    pred_5h.append(a + b*past[6] + c*past[5] + d*past[4])\n",
        "    err_5h.append(pred_5h[-1][0]-p_targets5h[seq][0])\n",
        "\n",
        "    # Repeat with prediction 6 hours ahead\n",
        "    past = np.append(past,[pred_5h[-1]],0)\n",
        "    pred_6h.append(a + b*past[7] + c*past[6] + d*past[5])\n",
        "    err_6h.append(pred_6h[-1][0]-p_targets6h[seq][0])\n",
        "\n",
        "    if seq % 100 == 0:\n",
        "      print(f'step {seq+1}, RMSE 1h: {np.sqrt(stat.mean(err_1h[n]**2 for n in range(len(err_1h))))}, RMSE 2h: {np.sqrt(stat.mean(err_2h[n]**2 for n in range(len(err_2h))))}, RMSE 3h: {np.sqrt(stat.mean(err_3h[n]**2 for n in range(len(err_3h))))}, RMSE 4h: {np.sqrt(stat.mean(err_4h[n]**2 for n in range(len(err_4h))))}, RMSE 5h: {np.sqrt(stat.mean(err_5h[n]**2 for n in range(len(err_5h))))}, RMSE 6h: {np.sqrt(stat.mean(err_6h[n]**2 for n in range(len(err_6h))))}')"
      ],
      "execution_count": 38,
      "outputs": [
        {
          "output_type": "stream",
          "name": "stdout",
          "text": [
            "step 1, RMSE 1h: 0.0041101000000000045, RMSE 2h: 0.0348390911, RMSE 3h: 0.0833917275179, RMSE 4h: 0.12339426571858308, RMSE 5h: 0.13062100596805748, RMSE 6h: 0.03688013452677609\n",
            "step 101, RMSE 1h: 0.07035843134737843, RMSE 2h: 0.11797614363222156, RMSE 3h: 0.14906344886143555, RMSE 4h: 0.1703300348444637, RMSE 5h: 0.18595369415643603, RMSE 6h: 0.1988572157893249\n",
            "step 201, RMSE 1h: 0.06812978019505032, RMSE 2h: 0.11516970177161238, RMSE 3h: 0.14504199198656959, RMSE 4h: 0.1650519363526176, RMSE 5h: 0.1824356222535656, RMSE 6h: 0.19780761740265784\n",
            "step 301, RMSE 1h: 0.07677044837502314, RMSE 2h: 0.12156251335590067, RMSE 3h: 0.150656968010809, RMSE 4h: 0.16965070532251125, RMSE 5h: 0.1846873471824445, RMSE 6h: 0.20042151258602983\n",
            "step 401, RMSE 1h: 0.07224706880106027, RMSE 2h: 0.1147480021350331, RMSE 3h: 0.14248685221821158, RMSE 4h: 0.16072607069066508, RMSE 5h: 0.17527370960172006, RMSE 6h: 0.18910427468458876\n",
            "step 501, RMSE 1h: 0.06904041416862959, RMSE 2h: 0.10970037994924346, RMSE 3h: 0.13569924537775785, RMSE 4h: 0.15331585745752802, RMSE 5h: 0.16714477159940128, RMSE 6h: 0.18027050950958795\n",
            "step 601, RMSE 1h: 0.07322334788941078, RMSE 2h: 0.11336856829609673, RMSE 3h: 0.1380206603216205, RMSE 4h: 0.15667248022842772, RMSE 5h: 0.17146791198156577, RMSE 6h: 0.18453655913343445\n",
            "step 701, RMSE 1h: 0.07049565629067599, RMSE 2h: 0.11010058203977255, RMSE 3h: 0.13474782446194725, RMSE 4h: 0.15315177462893906, RMSE 5h: 0.16764507471175785, RMSE 6h: 0.18019251879509302\n",
            "step 801, RMSE 1h: 0.070830850496784, RMSE 2h: 0.11254189046318452, RMSE 3h: 0.1384421700778182, RMSE 4h: 0.15717448102628634, RMSE 5h: 0.17204976218884244, RMSE 6h: 0.18514354346513426\n",
            "step 901, RMSE 1h: 0.07235893127061728, RMSE 2h: 0.11597174494322379, RMSE 3h: 0.1433483596375577, RMSE 4h: 0.16323869327743315, RMSE 5h: 0.17917557182643642, RMSE 6h: 0.19265658897355453\n",
            "step 1001, RMSE 1h: 0.07389439770134348, RMSE 2h: 0.11744761176256781, RMSE 3h: 0.14526581857533635, RMSE 4h: 0.16516952628506495, RMSE 5h: 0.1804514430002957, RMSE 6h: 0.1932808991181371\n",
            "step 1101, RMSE 1h: 0.07373995077104599, RMSE 2h: 0.11647142700678975, RMSE 3h: 0.14455231801849255, RMSE 4h: 0.16490859349306558, RMSE 5h: 0.1809057193897347, RMSE 6h: 0.19430786316022697\n",
            "step 1201, RMSE 1h: 0.07318126923787406, RMSE 2h: 0.1148047550592868, RMSE 3h: 0.14216592412531157, RMSE 4h: 0.16209828113325356, RMSE 5h: 0.17773712152286808, RMSE 6h: 0.1908137387778988\n",
            "step 1301, RMSE 1h: 0.07133665614966628, RMSE 2h: 0.11185419017197357, RMSE 3h: 0.13844185259050884, RMSE 4h: 0.1579916579901438, RMSE 5h: 0.17324677774117872, RMSE 6h: 0.1859139813498633\n",
            "step 1401, RMSE 1h: 0.07033409213118401, RMSE 2h: 0.11023191184172598, RMSE 3h: 0.13606204120992962, RMSE 4h: 0.15502366242591692, RMSE 5h: 0.16987257404933714, RMSE 6h: 0.18211178625854538\n",
            "step 1501, RMSE 1h: 0.07010400050662087, RMSE 2h: 0.1097306393672561, RMSE 3h: 0.13570904645551146, RMSE 4h: 0.15544368492346292, RMSE 5h: 0.17086670181480032, RMSE 6h: 0.18336758966032798\n",
            "step 1601, RMSE 1h: 0.07185992023381414, RMSE 2h: 0.11290393637830806, RMSE 3h: 0.1400944854045085, RMSE 4h: 0.16126001668198087, RMSE 5h: 0.1776577008389262, RMSE 6h: 0.19037165547468105\n",
            "step 1701, RMSE 1h: 0.0732053455879095, RMSE 2h: 0.11527365387816893, RMSE 3h: 0.14356950933643017, RMSE 4h: 0.16572175829298375, RMSE 5h: 0.18325143865837562, RMSE 6h: 0.19708781855291096\n",
            "step 1801, RMSE 1h: 0.07436539618642705, RMSE 2h: 0.11716328934584645, RMSE 3h: 0.1459073587635239, RMSE 4h: 0.16890465757818335, RMSE 5h: 0.18759601148434057, RMSE 6h: 0.20230931547768885\n",
            "step 1901, RMSE 1h: 0.0743157104493603, RMSE 2h: 0.11726704660587692, RMSE 3h: 0.1461713787680031, RMSE 4h: 0.16937006850827008, RMSE 5h: 0.18814379142316734, RMSE 6h: 0.2031490755513695\n",
            "step 2001, RMSE 1h: 0.07371166736814382, RMSE 2h: 0.11619282128193885, RMSE 3h: 0.14472579970526084, RMSE 4h: 0.1675112380270655, RMSE 5h: 0.18610759459259563, RMSE 6h: 0.20104085272092082\n",
            "step 2101, RMSE 1h: 0.07303379583161554, RMSE 2h: 0.11500647853664883, RMSE 3h: 0.1430279189908329, RMSE 4h: 0.1653059677967025, RMSE 5h: 0.18343548866416107, RMSE 6h: 0.19795947971427175\n",
            "step 2201, RMSE 1h: 0.07294075876163594, RMSE 2h: 0.11484062396174703, RMSE 3h: 0.1428896774255732, RMSE 4h: 0.16557650043541583, RMSE 5h: 0.18389022475449246, RMSE 6h: 0.1986401646369886\n",
            "step 2301, RMSE 1h: 0.072888623412833, RMSE 2h: 0.11496861048889867, RMSE 3h: 0.1430747205969894, RMSE 4h: 0.16559223810954257, RMSE 5h: 0.1835983199694645, RMSE 6h: 0.19828193497936267\n",
            "step 2401, RMSE 1h: 0.07143391132197072, RMSE 2h: 0.1127473402437089, RMSE 3h: 0.1404049450180228, RMSE 4h: 0.16259950517380284, RMSE 5h: 0.180387530188704, RMSE 6h: 0.19492911680892064\n",
            "step 2501, RMSE 1h: 0.0702289206379158, RMSE 2h: 0.11091041927480842, RMSE 3h: 0.1381868159212409, RMSE 4h: 0.1600762856857801, RMSE 5h: 0.17760755745069817, RMSE 6h: 0.1919299822339937\n",
            "step 2601, RMSE 1h: 0.06945246250290198, RMSE 2h: 0.10975218920968781, RMSE 3h: 0.13667974697860558, RMSE 4h: 0.15829785096364588, RMSE 5h: 0.17561839282818725, RMSE 6h: 0.18979189668001162\n"
          ]
        }
      ]
    },
    {
      "cell_type": "code",
      "metadata": {
        "colab": {
          "base_uri": "https://localhost:8080/"
        },
        "id": "rSFYYJ-QHjex",
        "outputId": "934ff1f5-a61b-400b-a6ca-1d23166b8e1d"
      },
      "source": [
        "# Estimation of confidence intervals:\n",
        "RMSE_1h = np.sqrt(stat.mean(err_1h[n]**2 for n in range(len(err_1h))))\n",
        "RMSE_2h = np.sqrt(stat.mean(err_2h[n]**2 for n in range(len(err_2h))))\n",
        "RMSE_3h = np.sqrt(stat.mean(err_3h[n]**2 for n in range(len(err_3h))))\n",
        "CI_1h = [norm.ppf(0.025)*RMSE_1h,norm.ppf(0.975)*RMSE_1h]\n",
        "CI_2h = [norm.ppf(0.025)*RMSE_2h,norm.ppf(0.975)*RMSE_2h]\n",
        "CI_3h = [norm.ppf(0.025)*RMSE_3h,norm.ppf(0.975)*RMSE_3h]\n",
        "print(f'Confidence interval 1h: {CI_1h}')\n",
        "print(f'Confidence interval 2h: {CI_2h}')\n",
        "print(f'Confidence interval 3h: {CI_3h}')"
      ],
      "execution_count": 39,
      "outputs": [
        {
          "output_type": "stream",
          "name": "stdout",
          "text": [
            "Confidence interval 1h: [-0.13632496657749724, 0.13632496657749718]\n",
            "Confidence interval 2h: [-0.2154230522779109, 0.21542305227791086]\n",
            "Confidence interval 3h: [-0.26856377327348296, 0.2685637732734829]\n"
          ]
        }
      ]
    },
    {
      "cell_type": "code",
      "metadata": {
        "id": "PO_6VFMjOD6z"
      },
      "source": [
        ""
      ],
      "execution_count": 39,
      "outputs": []
    }
  ]
}