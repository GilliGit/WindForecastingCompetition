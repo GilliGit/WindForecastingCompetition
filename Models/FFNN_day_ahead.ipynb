{
  "nbformat": 4,
  "nbformat_minor": 0,
  "metadata": {
    "colab": {
      "name": "FFNN_day_ahead.ipynb",
      "provenance": []
    },
    "kernelspec": {
      "name": "python3",
      "display_name": "Python 3"
    },
    "language_info": {
      "name": "python"
    }
  },
  "cells": [
    {
      "cell_type": "code",
      "metadata": {
        "id": "rkktUSsXrLtq"
      },
      "source": [
        "import numpy as np\n",
        "import pandas as pd\n",
        "import matplotlib.pyplot as plt\n",
        "import seaborn as sns\n",
        "\n",
        "# Import pytorch utilities\n",
        "import torch\n",
        "import torch.nn as nn\n",
        "import torch.nn.functional as F\n",
        "import torch.optim as optim\n",
        "from torch.autograd import Variable\n",
        "\n",
        "from tensorflow.keras.preprocessing.sequence import TimeseriesGenerator"
      ],
      "execution_count": 1,
      "outputs": []
    },
    {
      "cell_type": "code",
      "metadata": {
        "id": "jRaCDvFYrttE"
      },
      "source": [
        "x_train = pd.read_csv('windforecasts_wf1.csv', index_col='date')\n",
        "y_train = pd.read_csv('train.csv')\n",
        "# just consider the wind farm 1"
      ],
      "execution_count": 12,
      "outputs": []
    },
    {
      "cell_type": "code",
      "metadata": {
        "id": "J-zh_0czr3fM"
      },
      "source": [
        "# Select power data set\n",
        "y_train['date'] = pd.to_datetime(y_train.date, format= '%Y%m%d%H')\n",
        "y_train.index = y_train['date'] \n",
        "y_train.drop('date', inplace = True, axis = 1)\n",
        "complete_ts = y_train[:'2011-01-01 00'] # all the data without any gaps\n",
        "y_train_update=complete_ts[1:]"
      ],
      "execution_count": 13,
      "outputs": []
    },
    {
      "cell_type": "code",
      "metadata": {
        "id": "1Ij0WLBYr1x8"
      },
      "source": [
        "# Select forecast data set\n",
        "x_train_update = x_train[x_train.hors<=12]\n",
        "x_train_update.index = pd.to_datetime(x_train_update.index, format= '%Y%m%d%H')\n",
        "x_train_update = x_train_update[:'2010-12-31 12']"
      ],
      "execution_count": 16,
      "outputs": []
    },
    {
      "cell_type": "code",
      "metadata": {
        "id": "ABx3-1N3r-qc"
      },
      "source": [
        "# FFNN Day Ahead\n",
        "# Define the FFNN network\n",
        "class Net(nn.Module):\n",
        "\n",
        "    def __init__(self):\n",
        "        super(Net, self).__init__()\n",
        "        # input \n",
        "        self.inputLay = nn.Linear(in_features = 1,\n",
        "                               out_features = 256,\n",
        "                               bias = True)\n",
        "        self.output = nn.Linear(in_features = 256,\n",
        "                               out_features = 1,\n",
        "                               bias = True)\n",
        "\n",
        "    def forward(self, x):\n",
        "      x = self.inputLay(x)\n",
        "      x = F.elu(x) # F = nn.Functional\n",
        "      out = self.output(x)\n",
        "\n",
        "      return out\n",
        "\n"
      ],
      "execution_count": 87,
      "outputs": []
    },
    {
      "cell_type": "code",
      "metadata": {
        "colab": {
          "base_uri": "https://localhost:8080/"
        },
        "id": "o1Z0jrqtsBFO",
        "outputId": "b1a58604-8ad6-49e4-f71c-19a082f23d29"
      },
      "source": [
        "FFNN_mapping = Net()\n",
        "print(FFNN_mapping)"
      ],
      "execution_count": 71,
      "outputs": [
        {
          "output_type": "stream",
          "name": "stdout",
          "text": [
            "Net(\n",
            "  (inputLay): Linear(in_features=1, out_features=32, bias=True)\n",
            "  (output): Linear(in_features=32, out_features=1, bias=True)\n",
            ")\n"
          ]
        }
      ]
    },
    {
      "cell_type": "code",
      "metadata": {
        "colab": {
          "base_uri": "https://localhost:8080/"
        },
        "id": "nMffARSYsFPs",
        "outputId": "51e1d73a-5efb-4296-faa8-582ec4d67f4c"
      },
      "source": [
        "# Test the FFNN\n",
        "FFNN_mapping(   torch.Tensor(np.array([x_train_update.ws.iloc[0:6]]).T)    )"
      ],
      "execution_count": 72,
      "outputs": [
        {
          "output_type": "execute_result",
          "data": {
            "text/plain": [
              "tensor([[-0.5677],\n",
              "        [-0.5569],\n",
              "        [-0.5737],\n",
              "        [-0.6060],\n",
              "        [-0.6339],\n",
              "        [-0.6379]], grad_fn=<AddmmBackward0>)"
            ]
          },
          "metadata": {},
          "execution_count": 72
        }
      ]
    },
    {
      "cell_type": "code",
      "metadata": {
        "id": "hdqTYC3EsF0Y"
      },
      "source": [
        "# Set the parameters for training\n",
        "\n",
        "FFNN_mapping = Net()\n",
        "# Convert to cuda if GPU available\n",
        "if torch.cuda.is_available():\n",
        "    print('##converting network to cuda-enabled')\n",
        "    FFNN_mapping.cuda()\n",
        "\n",
        "# Define loss function and train parameters\n",
        "criterion = nn.MSELoss()    \n",
        "\n",
        "# Adam gradient descent with learning rate decay\n",
        "optimizer = optim.Adam(FFNN_mapping.parameters(), lr=1e-3)\n",
        "\n",
        "# Length of the training and batches\n",
        "epochs = 50\n",
        "batch_size = 8\n",
        "num_batch = len(x_train_update)//batch_size\n",
        "\n",
        "# Function to get the batch\n",
        "get_batch = lambda i, size: range(i * size, (i + 1) * size)\n",
        "\n",
        "# Track loss\n",
        "training_RMSE = []\n"
      ],
      "execution_count": 88,
      "outputs": []
    },
    {
      "cell_type": "code",
      "metadata": {
        "id": "tB5Y8xpid9fM"
      },
      "source": [
        ""
      ],
      "execution_count": 52,
      "outputs": []
    },
    {
      "cell_type": "code",
      "metadata": {
        "colab": {
          "base_uri": "https://localhost:8080/"
        },
        "id": "u7PDB4frsF94",
        "outputId": "28ac9f28-2214-402a-b74b-e8100862f860"
      },
      "source": [
        "# Training\n",
        "\n",
        "# Loop over epochs\n",
        "for i in range(epochs):\n",
        "\n",
        "    epoch_training_loss = 0\n",
        "\n",
        "    FFNN_mapping.train()\n",
        "\n",
        "    # For each sequence in training set\n",
        "    for b in range(num_batch):\n",
        "\n",
        "      batch_index = get_batch(b,batch_size)\n",
        "                 \n",
        "      # Get inputs and targets\n",
        "      inputs = torch.transpose(torch.Tensor([np.array(x_train_update.ws)[batch_index]]),0,1) # wind speed\n",
        "      targets = torch.Tensor(np.array(y_train_update.wp1)[batch_index])  # power\n",
        "\n",
        "      # Convert to cuda to run on GPU\n",
        "      if torch.cuda.is_available():\n",
        "            inputs, targets = Variable(inputs.cuda()), Variable(targets.cuda())\n",
        "\n",
        "      # Forward pass\n",
        "      outputs = FFNN_mapping(inputs)\n",
        "          \n",
        "      # Compute loss\n",
        "      loss = criterion(outputs, targets)\n",
        "          \n",
        "      # Backward pass\n",
        "      optimizer.zero_grad()\n",
        "      loss.backward()\n",
        "      optimizer.step()\n",
        "          \n",
        "      # Update loss\n",
        "      if torch.cuda.is_available():\n",
        "        epoch_training_loss += loss.cpu().detach().numpy()\n",
        "      else:\n",
        "        epoch_training_loss += loss.detach().numpy()\n",
        "    \n",
        "    # Save loss for plot\n",
        "    epoch_RMSE = np.sqrt(epoch_training_loss/(num_batch))\n",
        "    training_RMSE.append(epoch_RMSE)\n",
        "\n",
        "    # Compute confidence interval\n",
        "    # CI = [norm.ppf(0.025)*training_RMSE[-1],norm.ppf(0.975)*training_RMSE[-1]]\n",
        "\n",
        "    # Print loss every 10 epochs\n",
        "    if i % 1 == 0:\n",
        "        print('Epoch %d, training RMSE: %.2f' % (i+1,training_RMSE[-1]))"
      ],
      "execution_count": 89,
      "outputs": [
        {
          "output_type": "stream",
          "name": "stderr",
          "text": [
            "/usr/local/lib/python3.7/dist-packages/torch/nn/modules/loss.py:520: UserWarning: Using a target size (torch.Size([8])) that is different to the input size (torch.Size([8, 1])). This will likely lead to incorrect results due to broadcasting. Please ensure they have the same size.\n",
            "  return F.mse_loss(input, target, reduction=self.reduction)\n"
          ]
        },
        {
          "output_type": "stream",
          "name": "stdout",
          "text": [
            "Epoch 1, training RMSE: 0.27\n",
            "Epoch 2, training RMSE: 0.26\n",
            "Epoch 3, training RMSE: 0.25\n",
            "Epoch 4, training RMSE: 0.25\n",
            "Epoch 5, training RMSE: 0.24\n",
            "Epoch 6, training RMSE: 0.24\n",
            "Epoch 7, training RMSE: 0.23\n",
            "Epoch 8, training RMSE: 0.23\n",
            "Epoch 9, training RMSE: 0.22\n",
            "Epoch 10, training RMSE: 0.22\n",
            "Epoch 11, training RMSE: 0.22\n",
            "Epoch 12, training RMSE: 0.21\n",
            "Epoch 13, training RMSE: 0.21\n",
            "Epoch 14, training RMSE: 0.21\n",
            "Epoch 15, training RMSE: 0.21\n",
            "Epoch 16, training RMSE: 0.21\n",
            "Epoch 17, training RMSE: 0.20\n",
            "Epoch 18, training RMSE: 0.20\n",
            "Epoch 19, training RMSE: 0.19\n",
            "Epoch 20, training RMSE: 0.19\n",
            "Epoch 21, training RMSE: 0.19\n",
            "Epoch 22, training RMSE: 0.19\n",
            "Epoch 23, training RMSE: 0.19\n",
            "Epoch 24, training RMSE: 0.19\n",
            "Epoch 25, training RMSE: 0.19\n",
            "Epoch 26, training RMSE: 0.18\n",
            "Epoch 27, training RMSE: 0.18\n",
            "Epoch 28, training RMSE: 0.18\n",
            "Epoch 29, training RMSE: 0.18\n",
            "Epoch 30, training RMSE: 0.18\n",
            "Epoch 31, training RMSE: 0.18\n",
            "Epoch 32, training RMSE: 0.18\n",
            "Epoch 33, training RMSE: 0.18\n",
            "Epoch 34, training RMSE: 0.18\n",
            "Epoch 35, training RMSE: 0.18\n",
            "Epoch 36, training RMSE: 0.18\n",
            "Epoch 37, training RMSE: 0.18\n",
            "Epoch 38, training RMSE: 0.18\n",
            "Epoch 39, training RMSE: 0.18\n",
            "Epoch 40, training RMSE: 0.18\n",
            "Epoch 41, training RMSE: 0.18\n",
            "Epoch 42, training RMSE: 0.18\n",
            "Epoch 43, training RMSE: 0.18\n",
            "Epoch 44, training RMSE: 0.18\n",
            "Epoch 45, training RMSE: 0.18\n",
            "Epoch 46, training RMSE: 0.18\n",
            "Epoch 47, training RMSE: 0.18\n",
            "Epoch 48, training RMSE: 0.18\n",
            "Epoch 49, training RMSE: 0.18\n",
            "Epoch 50, training RMSE: 0.18\n"
          ]
        }
      ]
    },
    {
      "cell_type": "code",
      "metadata": {
        "colab": {
          "base_uri": "https://localhost:8080/",
          "height": 279
        },
        "id": "Ep83hYL6sGAE",
        "outputId": "baddcb12-b712-4a13-9f4a-7694601e4fdc"
      },
      "source": [
        "# Plot training loss\n",
        "epoch = np.arange(len(training_RMSE))\n",
        "plt.figure()\n",
        "plt.plot(epoch, training_RMSE, 'r')\n",
        "plt.xlabel('Epoch'), plt.ylabel('Training RMSE')\n",
        "plt.show()"
      ],
      "execution_count": 90,
      "outputs": [
        {
          "output_type": "display_data",
          "data": {
            "image/png": "[encoded data removed]",
            "text/plain": [
              "<Figure size 432x288 with 1 Axes>"
            ]
          },
          "metadata": {
            "needs_background": "light"
          }
        }
      ]
    },
    {
      "cell_type": "code",
      "metadata": {
        "colab": {
          "base_uri": "https://localhost:8080/",
          "height": 279
        },
        "id": "BvU2Tg0dsGDK",
        "outputId": "9c3bd892-6741-436c-ad3f-496e58603e81"
      },
      "source": [
        "# Plot the learnt power curve\n",
        "power = []\n",
        "v = []\n",
        "for i in range(40):\n",
        "  v.append(i)\n",
        "  power.append(FFNN_mapping(torch.Tensor([i])).detach().numpy())\n",
        "\n",
        "plt.plot(v,power)\n",
        "plt.xlabel('Wind speed [m/s]')\n",
        "plt.ylabel('Power')\n",
        "plt.grid()"
      ],
      "execution_count": 91,
      "outputs": [
        {
          "output_type": "display_data",
          "data": {
            "image/png": "[encoded data removed]",
            "text/plain": [
              "<Figure size 432x288 with 1 Axes>"
            ]
          },
          "metadata": {
            "needs_background": "light"
          }
        }
      ]
    },
    {
      "cell_type": "code",
      "metadata": {
        "colab": {
          "base_uri": "https://localhost:8080/",
          "height": 301
        },
        "id": "gO5stspGf-0Z",
        "outputId": "d0df531e-0ff6-4dfd-fad8-3c82e1f9c1f8"
      },
      "source": [
        "# Scatter plot of the power as function of wind speed\n",
        "plt.scatter(x_train_update.ws,y_train_update.wp1,label='True values')\n",
        "plt.xlabel('Wind speed [m/s]')\n",
        "plt.ylabel('Power')\n",
        "plt.grid()\n",
        "plt.plot(v,power,'r',label='Predictions')\n",
        "plt.xlim([0, 15])\n",
        "plt.ylim([-0.1, 1])\n",
        "plt.legend()"
      ],
      "execution_count": 93,
      "outputs": [
        {
          "output_type": "execute_result",
          "data": {
            "text/plain": [
              "<matplotlib.legend.Legend at 0x7f2b7f5ba1d0>"
            ]
          },
          "metadata": {},
          "execution_count": 93
        },
        {
          "output_type": "display_data",
          "data": {
            "image/png": "[encoded data removed]",
            "text/plain": [
              "<Figure size 432x288 with 1 Axes>"
            ]
          },
          "metadata": {
            "needs_background": "light"
          }
        }
      ]
    },
    {
      "cell_type": "code",
      "metadata": {
        "id": "V5TkXgvDg37i"
      },
      "source": [
        ""
      ],
      "execution_count": null,
      "outputs": []
    }
  ]
}